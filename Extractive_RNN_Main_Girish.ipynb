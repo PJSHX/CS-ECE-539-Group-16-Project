{
  "cells": [
    {
      "cell_type": "markdown",
      "metadata": {
        "id": "0oODuWQ5Hx1S"
      },
      "source": [
        "Contributors: \n",
        "Peter Harmer,\n",
        "Girish Dodda"
      ]
    },
    {
      "cell_type": "code",
      "execution_count": 1,
      "metadata": {},
      "outputs": [
        {
          "name": "stdout",
          "output_type": "stream",
          "text": [
            "Requirement already satisfied: pandas in c:\\users\\giris\\appdata\\local\\packages\\pythonsoftwarefoundation.python.3.8_qbz5n2kfra8p0\\localcache\\local-packages\\python38\\site-packages (2.0.3)\n",
            "Requirement already satisfied: numpy>=1.20.3 in c:\\users\\giris\\appdata\\local\\packages\\pythonsoftwarefoundation.python.3.8_qbz5n2kfra8p0\\localcache\\local-packages\\python38\\site-packages (from pandas) (1.24.4)\n",
            "Requirement already satisfied: tzdata>=2022.1 in c:\\users\\giris\\appdata\\local\\packages\\pythonsoftwarefoundation.python.3.8_qbz5n2kfra8p0\\localcache\\local-packages\\python38\\site-packages (from pandas) (2023.3)\n",
            "Requirement already satisfied: pytz>=2020.1 in c:\\users\\giris\\appdata\\local\\packages\\pythonsoftwarefoundation.python.3.8_qbz5n2kfra8p0\\localcache\\local-packages\\python38\\site-packages (from pandas) (2023.3.post1)\n",
            "Requirement already satisfied: python-dateutil>=2.8.2 in c:\\users\\giris\\appdata\\local\\packages\\pythonsoftwarefoundation.python.3.8_qbz5n2kfra8p0\\localcache\\local-packages\\python38\\site-packages (from pandas) (2.8.2)\n",
            "Requirement already satisfied: six>=1.5 in c:\\users\\giris\\appdata\\local\\packages\\pythonsoftwarefoundation.python.3.8_qbz5n2kfra8p0\\localcache\\local-packages\\python38\\site-packages (from python-dateutil>=2.8.2->pandas) (1.16.0)\n",
            "Note: you may need to restart the kernel to use updated packages.\n"
          ]
        },
        {
          "name": "stderr",
          "output_type": "stream",
          "text": [
            "WARNING: You are using pip version 21.1.1; however, version 23.3.1 is available.\n",
            "You should consider upgrading via the 'C:\\Users\\giris\\AppData\\Local\\Microsoft\\WindowsApps\\PythonSoftwareFoundation.Python.3.8_qbz5n2kfra8p0\\python.exe -m pip install --upgrade pip' command.\n"
          ]
        }
      ],
      "source": [
        "%pip install pandas"
      ]
    },
    {
      "cell_type": "code",
      "execution_count": 2,
      "metadata": {
        "id": "bcX_bBaHkcX8"
      },
      "outputs": [],
      "source": [
        "import numpy as np\n",
        "import pandas as pd\n",
        "import torch\n",
        "import torch.nn as nn\n",
        "import torch.nn.functional as F\n",
        "from collections import Counter\n",
        "import matplotlib.pyplot as plt\n",
        "from torch.utils.data import TensorDataset, DataLoader, RandomSampler\n",
        "import re"
      ]
    },
    {
      "cell_type": "code",
      "execution_count": 3,
      "metadata": {
        "id": "BC6LPiZIsD0g"
      },
      "outputs": [
        {
          "name": "stdout",
          "output_type": "stream",
          "text": [
            "GPU available: False\n"
          ]
        }
      ],
      "source": [
        "#Initializing\n",
        "gpu_available = torch.cuda.is_available()\n",
        "if gpu_available:\n",
        "    device = torch.device(\"cuda\")\n",
        "else:\n",
        "    device = torch.device(\"cpu\")\n",
        "\n",
        "print(\"GPU available: {}\".format(gpu_available))"
      ]
    },
    {
      "cell_type": "code",
      "execution_count": 4,
      "metadata": {
        "colab": {
          "base_uri": "https://localhost:8080/"
        },
        "id": "_Catgt9fdKQI",
        "outputId": "71930a90-9c53-4683-d573-7870a21a8262"
      },
      "outputs": [
        {
          "data": {
            "text/html": [
              "<div>\n",
              "<style scoped>\n",
              "    .dataframe tbody tr th:only-of-type {\n",
              "        vertical-align: middle;\n",
              "    }\n",
              "\n",
              "    .dataframe tbody tr th {\n",
              "        vertical-align: top;\n",
              "    }\n",
              "\n",
              "    .dataframe thead th {\n",
              "        text-align: right;\n",
              "    }\n",
              "</style>\n",
              "<table border=\"1\" class=\"dataframe\">\n",
              "  <thead>\n",
              "    <tr style=\"text-align: right;\">\n",
              "      <th></th>\n",
              "      <th>category</th>\n",
              "      <th>filename</th>\n",
              "      <th>title</th>\n",
              "      <th>content</th>\n",
              "    </tr>\n",
              "  </thead>\n",
              "  <tbody>\n",
              "    <tr>\n",
              "      <th>0</th>\n",
              "      <td>business</td>\n",
              "      <td>001.txt</td>\n",
              "      <td>Ad sales boost Time Warner profit</td>\n",
              "      <td>Quarterly profits at US media giant TimeWarne...</td>\n",
              "    </tr>\n",
              "    <tr>\n",
              "      <th>1</th>\n",
              "      <td>business</td>\n",
              "      <td>002.txt</td>\n",
              "      <td>Dollar gains on Greenspan speech</td>\n",
              "      <td>The dollar has hit its highest level against ...</td>\n",
              "    </tr>\n",
              "    <tr>\n",
              "      <th>2</th>\n",
              "      <td>business</td>\n",
              "      <td>003.txt</td>\n",
              "      <td>Yukos unit buyer faces loan claim</td>\n",
              "      <td>The owners of embattled Russian oil giant Yuk...</td>\n",
              "    </tr>\n",
              "    <tr>\n",
              "      <th>3</th>\n",
              "      <td>business</td>\n",
              "      <td>004.txt</td>\n",
              "      <td>High fuel prices hit BA's profits</td>\n",
              "      <td>British Airways has blamed high fuel prices f...</td>\n",
              "    </tr>\n",
              "    <tr>\n",
              "      <th>4</th>\n",
              "      <td>business</td>\n",
              "      <td>005.txt</td>\n",
              "      <td>Pernod takeover talk lifts Domecq</td>\n",
              "      <td>Shares in UK drinks and food firm Allied Dome...</td>\n",
              "    </tr>\n",
              "  </tbody>\n",
              "</table>\n",
              "</div>"
            ],
            "text/plain": [
              "   category filename                              title  \\\n",
              "0  business  001.txt  Ad sales boost Time Warner profit   \n",
              "1  business  002.txt   Dollar gains on Greenspan speech   \n",
              "2  business  003.txt  Yukos unit buyer faces loan claim   \n",
              "3  business  004.txt  High fuel prices hit BA's profits   \n",
              "4  business  005.txt  Pernod takeover talk lifts Domecq   \n",
              "\n",
              "                                             content  \n",
              "0   Quarterly profits at US media giant TimeWarne...  \n",
              "1   The dollar has hit its highest level against ...  \n",
              "2   The owners of embattled Russian oil giant Yuk...  \n",
              "3   British Airways has blamed high fuel prices f...  \n",
              "4   Shares in UK drinks and food firm Allied Dome...  "
            ]
          },
          "execution_count": 4,
          "metadata": {},
          "output_type": "execute_result"
        }
      ],
      "source": [
        "#Load & check Data\n",
        "\n",
        "colab = False\n",
        "\n",
        "if colab:\n",
        "    from google.colab import drive\n",
        "    drive.mount('/content/drive')\n",
        "    data = pd.read_csv('drive/My Drive/COMP SCI 539/bbc-news-data.csv', delimiter='\\t')\n",
        "else:\n",
        "    data = pd.read_csv('bbc-news-data.csv', delimiter='\\t')\n",
        "\n",
        "data.head()"
      ]
    },
    {
      "cell_type": "code",
      "execution_count": 5,
      "metadata": {
        "colab": {
          "base_uri": "https://localhost:8080/"
        },
        "id": "f4u3TdxIyGV3",
        "outputId": "8ccc99fb-ad19-4237-a3d0-8e5e4828b67e"
      },
      "outputs": [
        {
          "name": "stdout",
          "output_type": "stream",
          "text": [
            "category    0\n",
            "filename    0\n",
            "title       0\n",
            "content     0\n",
            "dtype: int64\n"
          ]
        },
        {
          "data": {
            "image/png": "[encoded data removed]",
            "text/plain": [
              "<Figure size 1000x600 with 1 Axes>"
            ]
          },
          "metadata": {},
          "output_type": "display_data"
        },
        {
          "data": {
            "image/png": "[encoded data removed]",
            "text/plain": [
              "<Figure size 1000x600 with 1 Axes>"
            ]
          },
          "metadata": {},
          "output_type": "display_data"
        }
      ],
      "source": [
        "#Data Preprocessing\n",
        "\n",
        "# Find and remove nulls\n",
        "print(data.isnull().sum())\n",
        "\n",
        "# Data to lowercase\n",
        "data[\"title\"] = data[\"title\"].str.lower()\n",
        "data[\"content\"] = data[\"content\"].str.lower()\n",
        "# Remove and replace contractions\n",
        "#Find more contraction in text and add\n",
        "contraction_dict = {\"can't\":\"cannot\",\"didn't\":\"did not\",\"aren't\":\"are not\",\"she'd\":\"she would\",\"he'd\":\"he would\",\"they'd\":\"they would\",\"they've\":\"they have\",\n",
        "\"shouldn't\":\"should not\",\"shouldn't've\":\"should not have\",\"she'll\":\"she will\",\"he'll\":\"he will\",\"they'll\":\"they will\"\n",
        "}\n",
        "\n",
        "def contraction_replacer(text):\n",
        "    for word in text.split():\n",
        "        if word in contraction_dict:\n",
        "            text = text.replace(word, contraction_dict[word])\n",
        "    return text\n",
        "\n",
        "data[\"title\"] = data[\"title\"].apply(contraction_replacer)\n",
        "data[\"content\"] = data[\"content\"].apply(contraction_replacer)\n",
        "\n",
        "# Remove punctuation and numbers\n",
        "#Find more punctuation in text and add\n",
        "\n",
        "punctuation_numbers = '!\"#$%&()*+,-./:;<=>?@[\\]^_`{|}~0123456789'\n",
        "\n",
        "def punctuation_numbers_remover(text):\n",
        "    for punctuation in punctuation_numbers:\n",
        "        text = text.replace(punctuation, '')\n",
        "    return text\n",
        "\n",
        "data[\"title\"] = data[\"title\"].apply(punctuation_numbers_remover)\n",
        "data[\"content\"] = data[\"content\"].apply(punctuation_numbers_remover)\n",
        "\n",
        "data.head()\n",
        "\n",
        "# plot the distribution of the lengths of the sequences\n",
        "content_lengths = [len(content.split()) for content in data[\"content\"]]\n",
        "\n",
        "\n",
        "plt.figure(figsize=(10, 6))  # Set the size of the plot\n",
        "plt.hist(content_lengths, bins=50, color='blue',\n",
        "         alpha=0.7)  # Adjust bins as needed\n",
        "plt.title('Histogram of Document Lengths')\n",
        "plt.xlabel('Document Length (in words)')\n",
        "plt.ylabel('Number of Documents')\n",
        "plt.grid(True)\n",
        "plt.show()\n",
        "\n",
        "# remove the outliers\n",
        "MAX_CONTENT_LENGTH = 1000\n",
        "MAX_TITLE_LENGTH = 10\n",
        "# get the indices of the documents that have more than 1000 words\n",
        "outliers = [idx for idx, length in enumerate(\n",
        "    content_lengths) if length > MAX_CONTENT_LENGTH]\n",
        "\n",
        "# remove the outliers from the data\n",
        "data = data.drop(outliers, axis=0).reset_index(drop=True)\n",
        "\n",
        "# plot the distribution of the lengths of the sequences\n",
        "content_lengths = [len(content.split()) for content in data[\"content\"]]\n",
        "plt.figure(figsize=(10, 6))  # Set the size of the plot\n",
        "plt.hist(content_lengths, bins=50, color='blue',\n",
        "         alpha=0.7)  # Adjust bins as needed\n",
        "plt.title('Histogram of Document Lengths')\n",
        "plt.xlabel('Document Length (in words)')\n",
        "plt.ylabel('Number of Documents')\n",
        "plt.grid(True)\n",
        "plt.show()"
      ]
    },
    {
      "cell_type": "code",
      "execution_count": 30,
      "metadata": {},
      "outputs": [
        {
          "name": "stdout",
          "output_type": "stream",
          "text": [
            "Creating vocab...\n",
            "Number of words in vocab: 31568\n",
            "Original text:  wales coach mike ruddock has made two changes from the team that beat italy  for saturday's trip to france  kevin morgan takes over from his injured newportgwent dragons colleague hal luscombe on the right wing and in the pack neathswansea ospreys forward ryan jones is preferred at blindside flanker to jonathan thomas thomas a tryscorer in rome drops down to the bench instead of ian gough while cardiff back rhys williams steps up in place of morgan luscombe is sidelined by a hamstring problem sustained during the six nations game against italy last weekend  however the experienced and inform morgan was already pushing hard for a start at stade de france due to his impressive performances from the bench kevin was very much in the selection mix anyway and the unfortunate injury to hal gives him the chance to start said ruddock now that ryan jones has recovered from injury we have increased the options in the back row jonathan thomas is unlucky to lose his spot after performing well against italy and scoring a try but such is the competition for places that every position is debated in detail for this particular game we felt we might not always be afforded the open spaces out wide we were able to exploit against italy so an extra big ballcarrier in the backrow is thought to be necessary on this occasion obviously it's a man game these days and there is every chance that jonathan will be making an impact from the bench wales have beaten france on two of their last three visits to paris and another victory this time around would keep them firmly on course for a first five or six nations title triumph since  graham henry former wales coach said a couple of years ago that we should 'be bold' when going to france and he was proved right said ruddock that is a great way to approach the game and something we will further endorse with the players this week  g thomas toulouse capt k morgan newportgwent t shanklin cardiff g henson neathswansea s williams neathswansea s jones clermont auvergne d peel llanelli g jenkins cardiff m davies gloucester a jones neathswansea b cockbain neathswansea r sidoli cardiff r jones neathswansea m williams cardiff m owen newportgwent  replacements r mcbryde llanelli j yapp cardiff j thomas neathswansea r sowdentaylor cardiff g cooper newportgwent c sweeney newportgwent r williams cardiff \n",
            "Tokenized text: [3452, 13576, 523, 25740, 70, 302, 697, 1481, 19, 15, 2715, 62, 3349, 1609, 14, 13299, 4960, 11, 2822, 7681, 1628, 1990, 808, 19, 803, 6899, 25973, 19265, 6795, 5524, 25974, 60, 15, 1528, 5428, 37, 30, 15, 14107, 25834, 25835, 3247, 13563, 2683, 24, 4171, 5, 25975, 25855, 11, 6177, 9685, 9685, 51, 25976, 30, 3294, 6437, 582, 11, 15, 19324, 3694, 27, 4800, 24188, 140, 9545, 86, 12212, 6450, 3262, 100, 30, 910, 27, 1628, 25974, 24, 4957, 47, 51, 23168, 2567, 4022, 1079, 15, 604, 858, 7278, 215, 1609, 509, 6688, 79, 15, 5066, 37, 1537, 1628, 144, 178, 3607, 870, 14, 51, 608, 5, 24375, 6408, 2822, 1448, 11, 803, 3210, 4735, 19, 15, 19324, 7681, 144, 584, 267, 30, 15, 5501, 8822, 7625, 37, 15, 13780, 12796, 11, 5524, 1218, 2112, 15, 1219, 11, 608, 40, 25740, 25, 62, 13563, 2683, 70, 7244, 19, 12796, 444, 300, 505, 15, 1768, 30, 15, 86, 3596, 6177, 9685, 24, 24665, 11, 3682, 803, 11080, 218, 3632, 360, 215, 1609, 37, 17613, 51, 98, 66, 337, 24, 15, 550, 14, 6745, 62, 1383, 1622, 24, 19428, 30, 5113, 14, 288, 916, 7278, 444, 1970, 444, 1547, 429, 5133, 347, 20558, 15, 2035, 25977, 284, 6559, 444, 45, 3110, 11, 3281, 215, 1609, 418, 173, 533, 357, 25978, 30, 15, 25939, 24, 322, 11, 347, 1521, 60, 288, 6825, 6133, 758, 51, 2709, 7278, 880, 1800, 37, 848, 24, 1383, 1219, 62, 6177, 97, 347, 752, 173, 578, 19, 15, 19324, 3452, 300, 7567, 2822, 60, 697, 27, 704, 509, 16, 12985, 11, 642, 37, 1362, 5288, 288, 59, 163, 414, 349, 446, 4440, 60, 2442, 14, 51, 804, 934, 147, 604, 858, 2384, 13722, 586, 6917, 12059, 388, 3452, 13576, 40, 51, 3910, 27, 783, 1601, 62, 444, 1668, 25979, 25980, 130, 1508, 11, 2822, 37, 585, 144, 3466, 1528, 40, 25740, 62, 24, 51, 2937, 197, 11, 3050, 15, 7278, 37, 5135, 444, 97, 536, 21571, 198, 15, 6006, 288, 1065, 254, 9685, 25981, 25697, 10352, 1628, 25973, 16702, 25923, 9545, 254, 25850, 25834, 1932, 6450, 25834, 1932, 2683, 25687, 25982, 14530, 10205, 21131, 254, 25962, 9545, 20, 9918, 23596, 51, 2683, 25834, 10378, 25983, 25834, 8657, 25984, 9545, 8657, 2683, 25834, 20, 6450, 9545, 20, 12324, 25973, 14998, 8657, 25985, 21131, 2624, 25986, 9545, 2624, 9685, 25834, 8657, 25987, 9545, 254, 3041, 25973, 3191, 12283, 25973, 8657, 6450, 9545]\n",
            "Converted text: wales coach mike ruddock has made two changes from the team that beat italy for saturday's trip to france kevin morgan takes over from his injured newportgwent dragons colleague hal luscombe on the right wing and in the pack neathswansea ospreys forward ryan jones is preferred at blindside flanker to jonathan thomas thomas a tryscorer in rome drops down to the bench instead of ian gough while cardiff back rhys williams steps up in place of morgan luscombe is sidelined by a hamstring problem sustained during the six nations game against italy last weekend however the experienced and inform morgan was already pushing hard for a start at stade de france due to his impressive performances from the bench kevin was very much in the selection mix anyway and the unfortunate injury to hal gives him the chance to start said ruddock now that ryan jones has recovered from injury we have increased the options in the back row jonathan thomas is unlucky to lose his spot after performing well against italy and scoring a try but such is the competition for places that every position is debated in detail for this particular game we felt we might not always be afforded the open spaces out wide we were able to exploit against italy so an extra big ballcarrier in the backrow is thought to be necessary on this occasion obviously it's a man game these days and there is every chance that jonathan will be making an impact from the bench wales have beaten france on two of their last three visits to paris and another victory this time around would keep them firmly on course for a first five or six nations title triumph since graham henry former wales coach said a couple of years ago that we should 'be bold' when going to france and he was proved right said ruddock that is a great way to approach the game and something we will further endorse with the players this week g thomas toulouse capt k morgan newportgwent t shanklin cardiff g henson neathswansea s williams neathswansea s jones clermont auvergne d peel llanelli g jenkins cardiff m davies gloucester a jones neathswansea b cockbain neathswansea r sidoli cardiff r jones neathswansea m williams cardiff m owen newportgwent replacements r mcbryde llanelli j yapp cardiff j thomas neathswansea r sowdentaylor cardiff g cooper newportgwent c sweeney newportgwent r williams cardiff\n"
          ]
        }
      ],
      "source": [
        "class Vocab:\n",
        "    def __init__(self):\n",
        "        self.word2index = {\"PAD\": 0, \"UNK\": 3}\n",
        "        self.index2word = {0: \"PAD\", 3: \"UNK\"}\n",
        "        self.word2count = {}\n",
        "        self.n_words = 2 \n",
        "\n",
        "    def addSentence(self, sentence):\n",
        "        for word in sentence.split(' '):\n",
        "            self.addWord(word)\n",
        "\n",
        "    def addWord(self, word):\n",
        "        if word not in self.word2index:\n",
        "            self.word2index[word] = self.n_words\n",
        "            self.word2count[word] = 1\n",
        "            self.index2word[self.n_words] = word\n",
        "            self.n_words += 1\n",
        "        else:\n",
        "            self.word2count[word] += 1\n",
        "\n",
        "    def tokenize(self, sentence, seq_len=None):\n",
        "        # Add Start Of Sentence token\n",
        "        token_seq_idx = []\n",
        "\n",
        "        # Tokenize each word in sentence\n",
        "        for tkn in sentence.split():\n",
        "            token_seq_idx.append(\n",
        "                self.word2index[tkn if tkn in self.word2index else \"UNK\"])\n",
        "\n",
        "\n",
        "        if seq_len is not None:\n",
        "            if len(token_seq_idx) < seq_len:\n",
        "                # Pad to desired length\n",
        "                token_seq_idx += [self.word2index[\"PAD\"]] * \\\n",
        "                    (seq_len - len(token_seq_idx))\n",
        "            else:\n",
        "                # Trim sentence to length\n",
        "                token_seq_idx = token_seq_idx[:seq_len]\n",
        "\n",
        "        return token_seq_idx\n",
        "\n",
        "    def list2sentence(self, seq_ids):\n",
        "        return \" \".join([self.index2word[idx] for idx in seq_ids])\n",
        "\n",
        "\n",
        "print(\"Creating vocab...\")\n",
        "vocab = Vocab()\n",
        "for content in data[\"content\"]:\n",
        "    vocab.addSentence(content)\n",
        "\n",
        "# Test it out\n",
        "print(\"Number of words in vocab: {}\".format(vocab.n_words))\n",
        "# pick a random sequence from the data\n",
        "random_idx = np.random.randint(0, len(data))\n",
        "print(\"Original text: {}\".format(data[\"content\"][random_idx]))\n",
        "# tokenize the text\n",
        "tokenized_text = vocab.tokenize(data[\"content\"][random_idx])\n",
        "print(\"Tokenized text: {}\".format(tokenized_text))\n",
        "# convert back to text\n",
        "converted_text = vocab.list2sentence(tokenized_text)\n",
        "print(\"Converted text: {}\".format(converted_text))"
      ]
    },
    {
      "cell_type": "code",
      "execution_count": 31,
      "metadata": {},
      "outputs": [
        {
          "name": "stdout",
          "output_type": "stream",
          "text": [
            "Creating dataloaders with 2204 samples...\n",
            "Batch | cont = torch.Size([32, 1000]) | titl = torch.Size([32, 10])\n",
            "First content:  a prescription cannabis drug made by uk biotech firm gw pharmaceuticals is set to be approved in canada the drug is used to treat the central nervous system and alleviate the symptoms of multiple sclerosis ms a few weeks ago shares in gw pharma lost a third of their value after uk regulators said they wanted more evidence about the drug's benefits but now canadian authorities have said the sativex drug will be considered for approval approximately people in canada have been diagnosed with ms and people are suffering from the condition in the uk many patients already smoke cannabis to relieve their symptoms now gw pharma's sativex mouth spray could be legally available to ms sufferers in canada within the next few months this will be the first time a cannabisbased drug has been approved anywhere in the world representing a landmark for gw pharma and for patients with ms final approval in canada should now be little more than a formality analysts said and the company expects full approval for sativex early in we are delighted to receive this qualifying notice from health canada and look forward to receiving regulatory approval for sativex in canada in the early part of said gw pharma executive chairman dr geoffrey guy the uk government granted gw pharma a licence to grow the cannabis plant for medical research purposes satifex consists of a cannabis extract containing tetrahydrocannabinol and cannabidiol a cocktail that has also proved effective in treating patients with arthritis thousands of plants are grown at a secret location somewhere in the english countryside despite hopes of regulatory approval last year a series of delays has put back sativex's launch in the uk the latest news sent shares in gw pharma up p or to p PAD PAD PAD PAD PAD PAD PAD PAD PAD PAD PAD PAD PAD PAD PAD PAD PAD PAD PAD PAD PAD PAD PAD PAD PAD PAD PAD PAD PAD PAD PAD PAD PAD PAD PAD PAD PAD PAD PAD PAD PAD PAD PAD PAD PAD PAD PAD PAD PAD PAD PAD PAD PAD PAD PAD PAD PAD PAD PAD PAD PAD PAD PAD PAD PAD PAD PAD PAD PAD PAD PAD PAD PAD PAD PAD PAD PAD PAD PAD PAD PAD PAD PAD PAD PAD PAD PAD PAD PAD PAD PAD PAD PAD PAD PAD PAD PAD PAD PAD PAD PAD PAD PAD PAD PAD PAD PAD PAD PAD PAD PAD PAD PAD PAD PAD PAD PAD PAD PAD PAD PAD PAD PAD PAD PAD PAD PAD PAD PAD PAD PAD PAD PAD PAD PAD PAD PAD PAD PAD PAD PAD PAD PAD PAD PAD PAD PAD PAD PAD PAD PAD PAD PAD PAD PAD PAD PAD PAD PAD PAD PAD PAD PAD PAD PAD PAD PAD PAD PAD PAD PAD PAD PAD PAD PAD PAD PAD PAD PAD PAD PAD PAD PAD PAD PAD PAD PAD PAD PAD PAD PAD PAD PAD PAD PAD PAD PAD PAD PAD PAD PAD PAD PAD PAD PAD PAD PAD PAD PAD PAD PAD PAD PAD PAD PAD PAD PAD PAD PAD PAD PAD PAD PAD PAD PAD PAD PAD PAD PAD PAD PAD PAD PAD PAD PAD PAD PAD PAD PAD PAD PAD PAD PAD PAD PAD PAD PAD PAD PAD PAD PAD PAD PAD PAD PAD PAD PAD PAD PAD PAD PAD PAD PAD PAD PAD PAD PAD PAD PAD PAD PAD PAD PAD PAD PAD PAD PAD PAD PAD PAD PAD PAD PAD PAD PAD PAD PAD PAD PAD PAD PAD PAD PAD PAD PAD PAD PAD PAD PAD PAD PAD PAD PAD PAD PAD PAD PAD PAD PAD PAD PAD PAD PAD PAD PAD PAD PAD PAD PAD PAD PAD PAD PAD PAD PAD PAD PAD PAD PAD PAD PAD PAD PAD PAD PAD PAD PAD PAD PAD PAD PAD PAD PAD PAD PAD PAD PAD PAD PAD PAD PAD PAD PAD PAD PAD PAD PAD PAD PAD PAD PAD PAD PAD PAD PAD PAD PAD PAD PAD PAD PAD PAD PAD PAD PAD PAD PAD PAD PAD PAD PAD PAD PAD PAD PAD PAD PAD PAD PAD PAD PAD PAD PAD PAD PAD PAD PAD PAD PAD PAD PAD PAD PAD PAD PAD PAD PAD PAD PAD PAD PAD PAD PAD PAD PAD PAD PAD PAD PAD PAD PAD PAD PAD PAD PAD PAD PAD PAD PAD PAD PAD PAD PAD PAD PAD PAD PAD PAD PAD PAD PAD PAD PAD PAD PAD PAD PAD PAD PAD PAD PAD PAD PAD PAD PAD PAD PAD PAD PAD PAD PAD PAD PAD PAD PAD PAD PAD PAD PAD PAD PAD PAD PAD PAD PAD PAD PAD PAD PAD PAD PAD PAD PAD PAD PAD PAD PAD PAD PAD PAD PAD PAD PAD PAD PAD PAD PAD PAD PAD PAD PAD PAD PAD PAD PAD PAD PAD PAD PAD PAD PAD PAD PAD PAD PAD PAD PAD PAD PAD PAD PAD PAD PAD PAD PAD PAD PAD PAD PAD PAD PAD PAD PAD PAD PAD PAD PAD PAD PAD PAD PAD PAD PAD PAD PAD PAD PAD PAD PAD PAD PAD PAD PAD PAD PAD PAD PAD PAD PAD PAD PAD PAD PAD PAD PAD PAD PAD PAD PAD PAD PAD PAD PAD PAD PAD PAD PAD PAD PAD PAD PAD PAD PAD PAD PAD PAD PAD PAD PAD PAD PAD PAD PAD PAD PAD PAD PAD PAD PAD PAD PAD PAD PAD PAD PAD PAD PAD PAD PAD PAD PAD PAD PAD PAD PAD PAD PAD PAD PAD PAD PAD PAD PAD PAD PAD PAD PAD PAD PAD PAD PAD PAD PAD PAD PAD PAD PAD PAD PAD PAD PAD PAD PAD PAD PAD PAD PAD PAD PAD PAD PAD PAD PAD PAD PAD PAD PAD PAD PAD PAD PAD PAD PAD PAD PAD PAD PAD PAD PAD PAD PAD PAD PAD PAD PAD PAD PAD PAD PAD PAD PAD PAD PAD PAD PAD PAD PAD PAD PAD PAD PAD PAD PAD PAD PAD PAD PAD PAD PAD PAD PAD PAD PAD PAD PAD\n",
            "First title: cannabis hopes for drug firm PAD PAD PAD PAD PAD\n"
          ]
        }
      ],
      "source": [
        "def create_dataloaders(batch_size):\n",
        "    n = len(data)\n",
        "    print(\"Creating dataloaders with {} samples...\".format(n))\n",
        "    content_seqs_ids = torch.zeros((n, MAX_CONTENT_LENGTH)).long()\n",
        "    title_seqs_ids = torch.zeros((n, MAX_TITLE_LENGTH)).long()\n",
        "\n",
        "    for idx, content in enumerate(data[\"content\"]):\n",
        "        # Tokenize and add to tensor\n",
        "        content_seqs_ids[idx] = torch.tensor(\n",
        "            vocab.tokenize(content, seq_len=MAX_CONTENT_LENGTH))\n",
        "        \n",
        "    for idx, title in enumerate(data[\"title\"]):\n",
        "        title_seqs_ids[idx] = torch.tensor(\n",
        "            vocab.tokenize(title, seq_len=MAX_TITLE_LENGTH))\n",
        "\n",
        "    # Split into training and testing\n",
        "    train_sample_mask = torch.rand((n,)) > 0.3\n",
        "\n",
        "    train_content_seqs_ids = content_seqs_ids[train_sample_mask]\n",
        "    train_title_seqs_ids = title_seqs_ids[train_sample_mask]\n",
        "    test_content_seqs_ids = content_seqs_ids[~train_sample_mask]\n",
        "    test_title_seqs_ids = title_seqs_ids[~train_sample_mask]\n",
        "    \n",
        "\n",
        "    # Create train dataloader\n",
        "    train_data = TensorDataset(train_content_seqs_ids.to(\n",
        "        device), train_title_seqs_ids.to(device))\n",
        "    train_dataloader = DataLoader(\n",
        "        train_data, sampler=RandomSampler(train_data), batch_size=batch_size)\n",
        "\n",
        "    # Create test dataloader\n",
        "    test_data = TensorDataset(test_content_seqs_ids.to(\n",
        "        device), test_title_seqs_ids.to(device))\n",
        "    test_dataloader = DataLoader(test_data, sampler=RandomSampler(train_data), batch_size=batch_size)\n",
        "\n",
        "    return train_dataloader, test_dataloader\n",
        "\n",
        "\n",
        "# Test the dataloader\n",
        "train_dataloader, test_dataloader = create_dataloaders(32)\n",
        "for cont, titl in train_dataloader:\n",
        "    print('Batch | cont =', cont.shape, '| titl =', titl.shape)\n",
        "    print('First content: ', vocab.list2sentence(cont[0].tolist()))\n",
        "    print('First title:', vocab.list2sentence(titl[0].tolist()))\n",
        "    break"
      ]
    },
    {
      "cell_type": "code",
      "execution_count": 44,
      "metadata": {},
      "outputs": [
        {
          "name": "stdout",
          "output_type": "stream",
          "text": [
            "torch.Size([1, 10])\n"
          ]
        }
      ],
      "source": [
        "sentence = 'the cat sat on the hat with a brown bat'\n",
        "seq = torch.tensor([vocab.word2index[w]\n",
        "                      for w in sentence.split()]).unsqueeze(0)\n",
        "print(seq.shape)"
      ]
    },
    {
      "cell_type": "code",
      "execution_count": 45,
      "metadata": {},
      "outputs": [
        {
          "name": "stdout",
          "output_type": "stream",
          "text": [
            "Batch of Contents: torch.Size([1, 10])\n",
            "Output of RNN Encoder: torch.Size([1, 10, 512])\n"
          ]
        }
      ],
      "source": [
        "class RNNEncoder(nn.Module):\n",
        "    def __init__(self, vocab_size, d_model, num_layers, dropout_rate=0.1):\n",
        "        super().__init__()\n",
        "        self.embedding = nn.Embedding(vocab_size, d_model)\n",
        "        self.rnn = nn.LSTM(input_size=d_model, hidden_size=d_model,\n",
        "                           num_layers=num_layers, dropout=dropout_rate, batch_first=True)\n",
        "        self.dropout = nn.Dropout(dropout_rate)\n",
        "\n",
        "    def forward(self, x):\n",
        "        # `x` is token-IDs shape: (batch, seq_len)\n",
        "        # Shape `(batch_size, seq_len, d_model)`.\n",
        "        embedded = self.dropout(self.embedding(x))\n",
        "        outputs, (hidden, cell) = self.rnn(embedded)\n",
        "        return outputs  # Shape `(batch_size, seq_len, d_model)`.\n",
        "    \n",
        "\n",
        "# Example usage\n",
        "rnn_encoder = RNNEncoder(vocab_size=vocab.n_words,\n",
        "                         d_model=512, num_layers=3, dropout_rate=0.1).to(device)\n",
        "print('Batch of Contents:', seq.shape)\n",
        "print('Output of RNN Encoder:', rnn_encoder(seq.to(device)).shape)"
      ]
    },
    {
      "cell_type": "code",
      "execution_count": 52,
      "metadata": {
        "id": "kAIuZL6A3aNy"
      },
      "outputs": [
        {
          "name": "stdout",
          "output_type": "stream",
          "text": [
            "Scores:\n",
            " tensor([[0.0332, 0.0309, 0.0279, 0.0280, 0.0278, 0.0298, 0.0297, 0.0289, 0.0279,\n",
            "         0.0275]], grad_fn=<SqueezeBackward1>)\n",
            "Selected (Binary Mask):\n",
            " tensor([[False, False, False, False, False, False, False, False, False, False]])\n"
          ]
        }
      ],
      "source": [
        "class ExtractiveSummarizer(nn.Module):\n",
        "    def __init__(self, vocab_size, d_model, num_layers, dropout_rate=0.1, threshold=0.5, sum_len = 10, pad_token = 0):\n",
        "        super().__init__()\n",
        "        self.encoder = RNNEncoder(\n",
        "            vocab_size, d_model, num_layers, dropout_rate)\n",
        "        self.scoring_layer = nn.Linear(d_model, 1)\n",
        "        self.threshold = nn.Parameter(torch.tensor(threshold))\n",
        "        self.sum_len = sum_len\n",
        "        self.pad_token = pad_token\n",
        "\n",
        "    def forward(self, x):\n",
        "        # Encoder outputs\n",
        "        # Shape `(batch_size, seq_len, d_model)`.\n",
        "        encoder_outputs = self.encoder(x)\n",
        "\n",
        "        # Scoring each word\n",
        "        # Shape `(batch_size, seq_len)`.\n",
        "        scores = self.scoring_layer(encoder_outputs).squeeze(-1)\n",
        "        selected = scores > self.threshold\n",
        "\n",
        "        return scores, selected\n",
        "\n",
        "\n",
        "summarizer = ExtractiveSummarizer(vocab_size=vocab.n_words, d_model=512, num_layers=3, dropout_rate=0.1, threshold=0.6, sum_len=MAX_TITLE_LENGTH, pad_token=vocab.word2index[\"PAD\"]).to(device)\n",
        "\n",
        "# Get the scores and selected words\n",
        "scores, selected = summarizer(seq)\n",
        "\n",
        "# Print the results\n",
        "print(\"Scores:\\n\", scores)\n",
        "print(\"Selected (Binary Mask):\\n\", selected)"
      ]
    },
    {
      "cell_type": "code",
      "execution_count": 60,
      "metadata": {},
      "outputs": [
        {
          "name": "stdout",
          "output_type": "stream",
          "text": [
            "Summary Tokens:\n",
            " tensor([[0, 0, 0, 0, 0, 0, 0, 0, 0, 0]])\n",
            "Summary:\n",
            " PAD PAD PAD PAD PAD PAD PAD PAD PAD PAD\n"
          ]
        }
      ],
      "source": [
        "def selectedToSummary(selected, scores, x, sum_len, pad_token):\n",
        "    top_scores, top_indices = torch.topk(\n",
        "        scores, k=sum_len, dim=-1, sorted=False)\n",
        "    # Initialize an empty tensor for the summary indices\n",
        "\n",
        "    summary_tokens = torch.full((x.size(\n",
        "        0), sum_len), fill_value=pad_token, dtype=torch.long, device=x.device)\n",
        "    # Fill in the indices of the top scoring words\n",
        "\n",
        "    for i in range(x.size(0)):  # Loop over batch\n",
        "        # Number of selected words or sum_len\n",
        "        length = min(sum_len, (selected[i]).sum().item())\n",
        "        summary_tokens[i, :length] = top_indices[i, :length]\n",
        "\n",
        "    return summary_tokens\n",
        "\n",
        "# Test the functions\n",
        "summary_tokens = selectedToSummary(selected, scores, seq, MAX_TITLE_LENGTH, vocab.word2index[\"PAD\"])\n",
        "print(\"Summary Tokens:\\n\", summary_tokens)\n",
        "print(\"Summary:\\n\", vocab.list2sentence(summary_tokens[0].tolist()))"
      ]
    },
    {
      "cell_type": "code",
      "execution_count": 50,
      "metadata": {
        "id": "Sm__WyTsr6g6"
      },
      "outputs": [],
      "source": [
        "#Hyperparameters\n",
        "dropout = 0.1\n",
        "hidden_dim = 512\n",
        "num_layers = 3\n",
        "threshold = 0.5\n",
        "lr= 0.01\n",
        "n_epochs = 20\n",
        "summation_length = MAX_TITLE_LENGTH"
      ]
    },
    {
      "cell_type": "code",
      "execution_count": 36,
      "metadata": {
        "colab": {
          "base_uri": "https://localhost:8080/",
          "height": 407
        },
        "id": "46vDDDnG2AGi",
        "outputId": "4376f883-7bec-4e0b-b28e-534ea1167ca4"
      },
      "outputs": [
        {
          "name": "stdout",
          "output_type": "stream",
          "text": [
            "Creating dataloaders with 2204 samples...\n",
            "[tensor([[    6, 12549,  3949,  ...,     0,     0,     0],\n",
            "        [ 1591,    70,  1627,  ...,     0,     0,     0],\n",
            "        [12162, 16214, 16215,  ...,     0,     0,     0],\n",
            "        ...,\n",
            "        [ 2587,  4968,    24,  ...,     0,     0,     0],\n",
            "        [ 1982,     5,  5955,  ...,     0,     0,     0],\n",
            "        [  475,    24,    11,  ...,     0,     0,     0]]), tensor([[ 1340,   182,   215, 15831, 14158,     0,     0,     0,     0,     0],\n",
            "        [ 1591,     3,   411,   808,  2217,     0,     0,     0,     0,     0],\n",
            "        [16216, 12162, 16215,     3,     0,     0,     0,     0,     0,     0],\n",
            "        [27010,  1917,   927, 18884,  2512,     0,     0,     0,     0,     0],\n",
            "        [13232, 14132,   652, 13343, 12624,     0,     0,     0,     0,     0],\n",
            "        [23848,  9527,    14, 10286,   338,     0,     0,     0,     0,     0],\n",
            "        [ 2833,   869,   239,   639,    14, 15542,     0,     0,     0,     0],\n",
            "        [12980,  3768,   808,  7307, 24519,     0,     0,     0,     0,     0],\n",
            "        [20821,  1904,    11,     3,     3,     0,     0,     0,     0,     0],\n",
            "        [12375, 11982,     5,     3, 12172,     0,     0,     0,     0,     0],\n",
            "        [14051,  4562,    11,  5305,    60, 26725,     0,     0,     0,     0],\n",
            "        [26906, 23780,     5,     3,   728,     0,     0,     0,     0,     0],\n",
            "        [26155,  4604,    14, 25304,     0,     0,     0,     0,     0,     0],\n",
            "        [11758,  6443,    14, 19086,  1631,     0,     0,     0,     0,     0],\n",
            "        [ 4664,  4665, 10517,  2397,     0,     0,     0,     0,     0,     0],\n",
            "        [ 3314, 12148, 21852, 13062,     0,     0,     0,     0,     0,     0],\n",
            "        [15134,  7393, 15264,  3557,  6789,     0,     0,     0,     0,     0],\n",
            "        [ 7310, 12386,    90,    27,  1631,     0,     0,     0,     0,     0],\n",
            "        [15045, 14561, 10992,  3331,     0,     0,     0,     0,     0,     0],\n",
            "        [  907,   908, 18330,   652, 12148,     0,     0,     0,     0,     0],\n",
            "        [15034,  1487, 15264,  8122, 12293,     0,     0,     0,     0,     0],\n",
            "        [22853,    11,  4786,   582,   169, 18715,  7668,     0,     0,     0],\n",
            "        [ 3932,  2816,  2090,   626,  1432,     0,     0,     0,     0,     0],\n",
            "        [ 1908,  4604,    14, 13337,  3119,     0,     0,     0,     0,     0],\n",
            "        [23604, 12927,    60, 11399,  1916,     0,     0,     0,     0,     0],\n",
            "        [  862, 11942,  2881,     4,  3034,     0,     0,     0,     0,     0],\n",
            "        [  383,   305,   777,    86,    19,  2467,     0,     0,     0,     0],\n",
            "        [ 2877,  7823,   346,   347,  4044,     0,     0,     0,     0,     0],\n",
            "        [ 1932,  5855,   454,  3999,    22,  4013,     0,     0,     0,     0],\n",
            "        [ 2010,   797,     3,  4968,  6361,  1408,     0,     0,     0,     0],\n",
            "        [20193,  1341,    14,  5955,   398,     0,     0,     0,     0,     0],\n",
            "        [   20,  4157,    14,   388,   475,  2104,     0,     0,     0,     0]])]\n"
          ]
        },
        {
          "ename": "KeyboardInterrupt",
          "evalue": "",
          "output_type": "error",
          "traceback": [
            "\u001b[1;31m---------------------------------------------------------------------------\u001b[0m",
            "\u001b[1;31mKeyboardInterrupt\u001b[0m                         Traceback (most recent call last)",
            "Cell \u001b[1;32mIn[36], line 75\u001b[0m\n\u001b[0;32m     72\u001b[0m criterion \u001b[38;5;241m=\u001b[39m nn\u001b[38;5;241m.\u001b[39mCrossEntropyLoss()\n\u001b[0;32m     74\u001b[0m epochs \u001b[38;5;241m=\u001b[39m \u001b[38;5;241m10\u001b[39m\n\u001b[1;32m---> 75\u001b[0m train_loss_history \u001b[38;5;241m=\u001b[39m \u001b[43mfit\u001b[49m\u001b[43m(\u001b[49m\u001b[43mmodel\u001b[49m\u001b[43m,\u001b[49m\u001b[43m \u001b[49m\u001b[43mtrain_dataloader\u001b[49m\u001b[43m,\u001b[49m\u001b[43m \u001b[49m\u001b[43moptimizer\u001b[49m\u001b[43m,\u001b[49m\u001b[43m \u001b[49m\u001b[43mcriterion\u001b[49m\u001b[43m,\u001b[49m\u001b[43m \u001b[49m\u001b[43mepochs\u001b[49m\u001b[43m,\u001b[49m\u001b[43m \u001b[49m\u001b[43mdevice\u001b[49m\u001b[43m)\u001b[49m\n\u001b[0;32m     76\u001b[0m val_loss \u001b[38;5;241m=\u001b[39m evaluate(model, test_dataloader, criterion)\n\u001b[0;32m     78\u001b[0m \u001b[38;5;66;03m# Plotting\u001b[39;00m\n",
            "Cell \u001b[1;32mIn[36], line 21\u001b[0m, in \u001b[0;36mfit\u001b[1;34m(model, dataloader, optimizer, criterion, epochs, device)\u001b[0m\n\u001b[0;32m     18\u001b[0m optimizer\u001b[38;5;241m.\u001b[39mzero_grad()\n\u001b[0;32m     20\u001b[0m \u001b[38;5;66;03m# Forward pass\u001b[39;00m\n\u001b[1;32m---> 21\u001b[0m outputs \u001b[38;5;241m=\u001b[39m \u001b[43mmodel\u001b[49m\u001b[43m(\u001b[49m\u001b[43minputs\u001b[49m\u001b[43m)\u001b[49m\n\u001b[0;32m     23\u001b[0m \u001b[38;5;66;03m# Reshape or align outputs and targets if necessary\u001b[39;00m\n\u001b[0;32m     24\u001b[0m \u001b[38;5;66;03m# Example: outputs might need to be reshaped or targets might need to be converted\u001b[39;00m\n\u001b[0;32m     25\u001b[0m \u001b[38;5;66;03m# This depends on the specific output format of your model and the criterion requirements\u001b[39;00m\n\u001b[0;32m     26\u001b[0m \u001b[38;5;66;03m# loss = criterion(outputs.view(-1, outputs.size(-1)), targets.view(-1))\u001b[39;00m\n\u001b[0;32m     28\u001b[0m \u001b[38;5;28mprint\u001b[39m(targets\u001b[38;5;241m.\u001b[39mshape, outputs\u001b[38;5;241m.\u001b[39mshape)\n",
            "File \u001b[1;32m~\\AppData\\Local\\Packages\\PythonSoftwareFoundation.Python.3.8_qbz5n2kfra8p0\\LocalCache\\local-packages\\Python38\\site-packages\\torch\\nn\\modules\\module.py:1518\u001b[0m, in \u001b[0;36mModule._wrapped_call_impl\u001b[1;34m(self, *args, **kwargs)\u001b[0m\n\u001b[0;32m   1516\u001b[0m     \u001b[38;5;28;01mreturn\u001b[39;00m \u001b[38;5;28mself\u001b[39m\u001b[38;5;241m.\u001b[39m_compiled_call_impl(\u001b[38;5;241m*\u001b[39margs, \u001b[38;5;241m*\u001b[39m\u001b[38;5;241m*\u001b[39mkwargs)  \u001b[38;5;66;03m# type: ignore[misc]\u001b[39;00m\n\u001b[0;32m   1517\u001b[0m \u001b[38;5;28;01melse\u001b[39;00m:\n\u001b[1;32m-> 1518\u001b[0m     \u001b[38;5;28;01mreturn\u001b[39;00m \u001b[38;5;28;43mself\u001b[39;49m\u001b[38;5;241;43m.\u001b[39;49m\u001b[43m_call_impl\u001b[49m\u001b[43m(\u001b[49m\u001b[38;5;241;43m*\u001b[39;49m\u001b[43margs\u001b[49m\u001b[43m,\u001b[49m\u001b[43m \u001b[49m\u001b[38;5;241;43m*\u001b[39;49m\u001b[38;5;241;43m*\u001b[39;49m\u001b[43mkwargs\u001b[49m\u001b[43m)\u001b[49m\n",
            "File \u001b[1;32m~\\AppData\\Local\\Packages\\PythonSoftwareFoundation.Python.3.8_qbz5n2kfra8p0\\LocalCache\\local-packages\\Python38\\site-packages\\torch\\nn\\modules\\module.py:1527\u001b[0m, in \u001b[0;36mModule._call_impl\u001b[1;34m(self, *args, **kwargs)\u001b[0m\n\u001b[0;32m   1522\u001b[0m \u001b[38;5;66;03m# If we don't have any hooks, we want to skip the rest of the logic in\u001b[39;00m\n\u001b[0;32m   1523\u001b[0m \u001b[38;5;66;03m# this function, and just call forward.\u001b[39;00m\n\u001b[0;32m   1524\u001b[0m \u001b[38;5;28;01mif\u001b[39;00m \u001b[38;5;129;01mnot\u001b[39;00m (\u001b[38;5;28mself\u001b[39m\u001b[38;5;241m.\u001b[39m_backward_hooks \u001b[38;5;129;01mor\u001b[39;00m \u001b[38;5;28mself\u001b[39m\u001b[38;5;241m.\u001b[39m_backward_pre_hooks \u001b[38;5;129;01mor\u001b[39;00m \u001b[38;5;28mself\u001b[39m\u001b[38;5;241m.\u001b[39m_forward_hooks \u001b[38;5;129;01mor\u001b[39;00m \u001b[38;5;28mself\u001b[39m\u001b[38;5;241m.\u001b[39m_forward_pre_hooks\n\u001b[0;32m   1525\u001b[0m         \u001b[38;5;129;01mor\u001b[39;00m _global_backward_pre_hooks \u001b[38;5;129;01mor\u001b[39;00m _global_backward_hooks\n\u001b[0;32m   1526\u001b[0m         \u001b[38;5;129;01mor\u001b[39;00m _global_forward_hooks \u001b[38;5;129;01mor\u001b[39;00m _global_forward_pre_hooks):\n\u001b[1;32m-> 1527\u001b[0m     \u001b[38;5;28;01mreturn\u001b[39;00m \u001b[43mforward_call\u001b[49m\u001b[43m(\u001b[49m\u001b[38;5;241;43m*\u001b[39;49m\u001b[43margs\u001b[49m\u001b[43m,\u001b[49m\u001b[43m \u001b[49m\u001b[38;5;241;43m*\u001b[39;49m\u001b[38;5;241;43m*\u001b[39;49m\u001b[43mkwargs\u001b[49m\u001b[43m)\u001b[49m\n\u001b[0;32m   1529\u001b[0m \u001b[38;5;28;01mtry\u001b[39;00m:\n\u001b[0;32m   1530\u001b[0m     result \u001b[38;5;241m=\u001b[39m \u001b[38;5;28;01mNone\u001b[39;00m\n",
            "Cell \u001b[1;32mIn[34], line 12\u001b[0m, in \u001b[0;36mExtractiveSummarizer.forward\u001b[1;34m(self, x)\u001b[0m\n\u001b[0;32m      9\u001b[0m \u001b[38;5;28;01mdef\u001b[39;00m \u001b[38;5;21mforward\u001b[39m(\u001b[38;5;28mself\u001b[39m, x):\n\u001b[0;32m     10\u001b[0m     \u001b[38;5;66;03m# Encoder outputs\u001b[39;00m\n\u001b[0;32m     11\u001b[0m     \u001b[38;5;66;03m# Shape `(batch_size, seq_len, d_model)`.\u001b[39;00m\n\u001b[1;32m---> 12\u001b[0m     encoder_outputs \u001b[38;5;241m=\u001b[39m \u001b[38;5;28;43mself\u001b[39;49m\u001b[38;5;241;43m.\u001b[39;49m\u001b[43mencoder\u001b[49m\u001b[43m(\u001b[49m\u001b[43mx\u001b[49m\u001b[43m)\u001b[49m\n\u001b[0;32m     14\u001b[0m     \u001b[38;5;66;03m# Scoring each word\u001b[39;00m\n\u001b[0;32m     15\u001b[0m     \u001b[38;5;66;03m# Shape `(batch_size, seq_len)`.\u001b[39;00m\n\u001b[0;32m     16\u001b[0m     scores \u001b[38;5;241m=\u001b[39m \u001b[38;5;28mself\u001b[39m\u001b[38;5;241m.\u001b[39mscoring_layer(encoder_outputs)\u001b[38;5;241m.\u001b[39msqueeze(\u001b[38;5;241m-\u001b[39m\u001b[38;5;241m1\u001b[39m)\n",
            "File \u001b[1;32m~\\AppData\\Local\\Packages\\PythonSoftwareFoundation.Python.3.8_qbz5n2kfra8p0\\LocalCache\\local-packages\\Python38\\site-packages\\torch\\nn\\modules\\module.py:1518\u001b[0m, in \u001b[0;36mModule._wrapped_call_impl\u001b[1;34m(self, *args, **kwargs)\u001b[0m\n\u001b[0;32m   1516\u001b[0m     \u001b[38;5;28;01mreturn\u001b[39;00m \u001b[38;5;28mself\u001b[39m\u001b[38;5;241m.\u001b[39m_compiled_call_impl(\u001b[38;5;241m*\u001b[39margs, \u001b[38;5;241m*\u001b[39m\u001b[38;5;241m*\u001b[39mkwargs)  \u001b[38;5;66;03m# type: ignore[misc]\u001b[39;00m\n\u001b[0;32m   1517\u001b[0m \u001b[38;5;28;01melse\u001b[39;00m:\n\u001b[1;32m-> 1518\u001b[0m     \u001b[38;5;28;01mreturn\u001b[39;00m \u001b[38;5;28;43mself\u001b[39;49m\u001b[38;5;241;43m.\u001b[39;49m\u001b[43m_call_impl\u001b[49m\u001b[43m(\u001b[49m\u001b[38;5;241;43m*\u001b[39;49m\u001b[43margs\u001b[49m\u001b[43m,\u001b[49m\u001b[43m \u001b[49m\u001b[38;5;241;43m*\u001b[39;49m\u001b[38;5;241;43m*\u001b[39;49m\u001b[43mkwargs\u001b[49m\u001b[43m)\u001b[49m\n",
            "File \u001b[1;32m~\\AppData\\Local\\Packages\\PythonSoftwareFoundation.Python.3.8_qbz5n2kfra8p0\\LocalCache\\local-packages\\Python38\\site-packages\\torch\\nn\\modules\\module.py:1527\u001b[0m, in \u001b[0;36mModule._call_impl\u001b[1;34m(self, *args, **kwargs)\u001b[0m\n\u001b[0;32m   1522\u001b[0m \u001b[38;5;66;03m# If we don't have any hooks, we want to skip the rest of the logic in\u001b[39;00m\n\u001b[0;32m   1523\u001b[0m \u001b[38;5;66;03m# this function, and just call forward.\u001b[39;00m\n\u001b[0;32m   1524\u001b[0m \u001b[38;5;28;01mif\u001b[39;00m \u001b[38;5;129;01mnot\u001b[39;00m (\u001b[38;5;28mself\u001b[39m\u001b[38;5;241m.\u001b[39m_backward_hooks \u001b[38;5;129;01mor\u001b[39;00m \u001b[38;5;28mself\u001b[39m\u001b[38;5;241m.\u001b[39m_backward_pre_hooks \u001b[38;5;129;01mor\u001b[39;00m \u001b[38;5;28mself\u001b[39m\u001b[38;5;241m.\u001b[39m_forward_hooks \u001b[38;5;129;01mor\u001b[39;00m \u001b[38;5;28mself\u001b[39m\u001b[38;5;241m.\u001b[39m_forward_pre_hooks\n\u001b[0;32m   1525\u001b[0m         \u001b[38;5;129;01mor\u001b[39;00m _global_backward_pre_hooks \u001b[38;5;129;01mor\u001b[39;00m _global_backward_hooks\n\u001b[0;32m   1526\u001b[0m         \u001b[38;5;129;01mor\u001b[39;00m _global_forward_hooks \u001b[38;5;129;01mor\u001b[39;00m _global_forward_pre_hooks):\n\u001b[1;32m-> 1527\u001b[0m     \u001b[38;5;28;01mreturn\u001b[39;00m \u001b[43mforward_call\u001b[49m\u001b[43m(\u001b[49m\u001b[38;5;241;43m*\u001b[39;49m\u001b[43margs\u001b[49m\u001b[43m,\u001b[49m\u001b[43m \u001b[49m\u001b[38;5;241;43m*\u001b[39;49m\u001b[38;5;241;43m*\u001b[39;49m\u001b[43mkwargs\u001b[49m\u001b[43m)\u001b[49m\n\u001b[0;32m   1529\u001b[0m \u001b[38;5;28;01mtry\u001b[39;00m:\n\u001b[0;32m   1530\u001b[0m     result \u001b[38;5;241m=\u001b[39m \u001b[38;5;28;01mNone\u001b[39;00m\n",
            "Cell \u001b[1;32mIn[33], line 13\u001b[0m, in \u001b[0;36mRNNEncoder.forward\u001b[1;34m(self, x)\u001b[0m\n\u001b[0;32m      9\u001b[0m \u001b[38;5;28;01mdef\u001b[39;00m \u001b[38;5;21mforward\u001b[39m(\u001b[38;5;28mself\u001b[39m, x):\n\u001b[0;32m     10\u001b[0m     \u001b[38;5;66;03m# `x` is token-IDs shape: (batch, seq_len)\u001b[39;00m\n\u001b[0;32m     11\u001b[0m     \u001b[38;5;66;03m# Shape `(batch_size, seq_len, d_model)`.\u001b[39;00m\n\u001b[0;32m     12\u001b[0m     embedded \u001b[38;5;241m=\u001b[39m \u001b[38;5;28mself\u001b[39m\u001b[38;5;241m.\u001b[39mdropout(\u001b[38;5;28mself\u001b[39m\u001b[38;5;241m.\u001b[39membedding(x))\n\u001b[1;32m---> 13\u001b[0m     outputs, (hidden, cell) \u001b[38;5;241m=\u001b[39m \u001b[38;5;28;43mself\u001b[39;49m\u001b[38;5;241;43m.\u001b[39;49m\u001b[43mrnn\u001b[49m\u001b[43m(\u001b[49m\u001b[43membedded\u001b[49m\u001b[43m)\u001b[49m\n\u001b[0;32m     14\u001b[0m     \u001b[38;5;28;01mreturn\u001b[39;00m outputs\n",
            "File \u001b[1;32m~\\AppData\\Local\\Packages\\PythonSoftwareFoundation.Python.3.8_qbz5n2kfra8p0\\LocalCache\\local-packages\\Python38\\site-packages\\torch\\nn\\modules\\module.py:1518\u001b[0m, in \u001b[0;36mModule._wrapped_call_impl\u001b[1;34m(self, *args, **kwargs)\u001b[0m\n\u001b[0;32m   1516\u001b[0m     \u001b[38;5;28;01mreturn\u001b[39;00m \u001b[38;5;28mself\u001b[39m\u001b[38;5;241m.\u001b[39m_compiled_call_impl(\u001b[38;5;241m*\u001b[39margs, \u001b[38;5;241m*\u001b[39m\u001b[38;5;241m*\u001b[39mkwargs)  \u001b[38;5;66;03m# type: ignore[misc]\u001b[39;00m\n\u001b[0;32m   1517\u001b[0m \u001b[38;5;28;01melse\u001b[39;00m:\n\u001b[1;32m-> 1518\u001b[0m     \u001b[38;5;28;01mreturn\u001b[39;00m \u001b[38;5;28;43mself\u001b[39;49m\u001b[38;5;241;43m.\u001b[39;49m\u001b[43m_call_impl\u001b[49m\u001b[43m(\u001b[49m\u001b[38;5;241;43m*\u001b[39;49m\u001b[43margs\u001b[49m\u001b[43m,\u001b[49m\u001b[43m \u001b[49m\u001b[38;5;241;43m*\u001b[39;49m\u001b[38;5;241;43m*\u001b[39;49m\u001b[43mkwargs\u001b[49m\u001b[43m)\u001b[49m\n",
            "File \u001b[1;32m~\\AppData\\Local\\Packages\\PythonSoftwareFoundation.Python.3.8_qbz5n2kfra8p0\\LocalCache\\local-packages\\Python38\\site-packages\\torch\\nn\\modules\\module.py:1527\u001b[0m, in \u001b[0;36mModule._call_impl\u001b[1;34m(self, *args, **kwargs)\u001b[0m\n\u001b[0;32m   1522\u001b[0m \u001b[38;5;66;03m# If we don't have any hooks, we want to skip the rest of the logic in\u001b[39;00m\n\u001b[0;32m   1523\u001b[0m \u001b[38;5;66;03m# this function, and just call forward.\u001b[39;00m\n\u001b[0;32m   1524\u001b[0m \u001b[38;5;28;01mif\u001b[39;00m \u001b[38;5;129;01mnot\u001b[39;00m (\u001b[38;5;28mself\u001b[39m\u001b[38;5;241m.\u001b[39m_backward_hooks \u001b[38;5;129;01mor\u001b[39;00m \u001b[38;5;28mself\u001b[39m\u001b[38;5;241m.\u001b[39m_backward_pre_hooks \u001b[38;5;129;01mor\u001b[39;00m \u001b[38;5;28mself\u001b[39m\u001b[38;5;241m.\u001b[39m_forward_hooks \u001b[38;5;129;01mor\u001b[39;00m \u001b[38;5;28mself\u001b[39m\u001b[38;5;241m.\u001b[39m_forward_pre_hooks\n\u001b[0;32m   1525\u001b[0m         \u001b[38;5;129;01mor\u001b[39;00m _global_backward_pre_hooks \u001b[38;5;129;01mor\u001b[39;00m _global_backward_hooks\n\u001b[0;32m   1526\u001b[0m         \u001b[38;5;129;01mor\u001b[39;00m _global_forward_hooks \u001b[38;5;129;01mor\u001b[39;00m _global_forward_pre_hooks):\n\u001b[1;32m-> 1527\u001b[0m     \u001b[38;5;28;01mreturn\u001b[39;00m \u001b[43mforward_call\u001b[49m\u001b[43m(\u001b[49m\u001b[38;5;241;43m*\u001b[39;49m\u001b[43margs\u001b[49m\u001b[43m,\u001b[49m\u001b[43m \u001b[49m\u001b[38;5;241;43m*\u001b[39;49m\u001b[38;5;241;43m*\u001b[39;49m\u001b[43mkwargs\u001b[49m\u001b[43m)\u001b[49m\n\u001b[0;32m   1529\u001b[0m \u001b[38;5;28;01mtry\u001b[39;00m:\n\u001b[0;32m   1530\u001b[0m     result \u001b[38;5;241m=\u001b[39m \u001b[38;5;28;01mNone\u001b[39;00m\n",
            "File \u001b[1;32m~\\AppData\\Local\\Packages\\PythonSoftwareFoundation.Python.3.8_qbz5n2kfra8p0\\LocalCache\\local-packages\\Python38\\site-packages\\torch\\nn\\modules\\rnn.py:879\u001b[0m, in \u001b[0;36mLSTM.forward\u001b[1;34m(self, input, hx)\u001b[0m\n\u001b[0;32m    876\u001b[0m         hx \u001b[38;5;241m=\u001b[39m \u001b[38;5;28mself\u001b[39m\u001b[38;5;241m.\u001b[39mpermute_hidden(hx, sorted_indices)\n\u001b[0;32m    878\u001b[0m \u001b[38;5;28;01mif\u001b[39;00m batch_sizes \u001b[38;5;129;01mis\u001b[39;00m \u001b[38;5;28;01mNone\u001b[39;00m:\n\u001b[1;32m--> 879\u001b[0m     result \u001b[38;5;241m=\u001b[39m \u001b[43m_VF\u001b[49m\u001b[38;5;241;43m.\u001b[39;49m\u001b[43mlstm\u001b[49m\u001b[43m(\u001b[49m\u001b[38;5;28;43minput\u001b[39;49m\u001b[43m,\u001b[49m\u001b[43m \u001b[49m\u001b[43mhx\u001b[49m\u001b[43m,\u001b[49m\u001b[43m \u001b[49m\u001b[38;5;28;43mself\u001b[39;49m\u001b[38;5;241;43m.\u001b[39;49m\u001b[43m_flat_weights\u001b[49m\u001b[43m,\u001b[49m\u001b[43m \u001b[49m\u001b[38;5;28;43mself\u001b[39;49m\u001b[38;5;241;43m.\u001b[39;49m\u001b[43mbias\u001b[49m\u001b[43m,\u001b[49m\u001b[43m \u001b[49m\u001b[38;5;28;43mself\u001b[39;49m\u001b[38;5;241;43m.\u001b[39;49m\u001b[43mnum_layers\u001b[49m\u001b[43m,\u001b[49m\n\u001b[0;32m    880\u001b[0m \u001b[43m                      \u001b[49m\u001b[38;5;28;43mself\u001b[39;49m\u001b[38;5;241;43m.\u001b[39;49m\u001b[43mdropout\u001b[49m\u001b[43m,\u001b[49m\u001b[43m \u001b[49m\u001b[38;5;28;43mself\u001b[39;49m\u001b[38;5;241;43m.\u001b[39;49m\u001b[43mtraining\u001b[49m\u001b[43m,\u001b[49m\u001b[43m \u001b[49m\u001b[38;5;28;43mself\u001b[39;49m\u001b[38;5;241;43m.\u001b[39;49m\u001b[43mbidirectional\u001b[49m\u001b[43m,\u001b[49m\u001b[43m \u001b[49m\u001b[38;5;28;43mself\u001b[39;49m\u001b[38;5;241;43m.\u001b[39;49m\u001b[43mbatch_first\u001b[49m\u001b[43m)\u001b[49m\n\u001b[0;32m    881\u001b[0m \u001b[38;5;28;01melse\u001b[39;00m:\n\u001b[0;32m    882\u001b[0m     result \u001b[38;5;241m=\u001b[39m _VF\u001b[38;5;241m.\u001b[39mlstm(\u001b[38;5;28minput\u001b[39m, batch_sizes, hx, \u001b[38;5;28mself\u001b[39m\u001b[38;5;241m.\u001b[39m_flat_weights, \u001b[38;5;28mself\u001b[39m\u001b[38;5;241m.\u001b[39mbias,\n\u001b[0;32m    883\u001b[0m                       \u001b[38;5;28mself\u001b[39m\u001b[38;5;241m.\u001b[39mnum_layers, \u001b[38;5;28mself\u001b[39m\u001b[38;5;241m.\u001b[39mdropout, \u001b[38;5;28mself\u001b[39m\u001b[38;5;241m.\u001b[39mtraining, \u001b[38;5;28mself\u001b[39m\u001b[38;5;241m.\u001b[39mbidirectional)\n",
            "\u001b[1;31mKeyboardInterrupt\u001b[0m: "
          ]
        }
      ],
      "source": [
        "import torch\n",
        "import torch.nn as nn\n",
        "import torch.optim as optim\n",
        "import matplotlib.pyplot as plt\n",
        "\n",
        "def fit(model, dataloader, optimizer, criterion, epochs, device):\n",
        "    model.train()\n",
        "    loss_history = []\n",
        "\n",
        "    for epoch in range(epochs):\n",
        "        total_loss = 0\n",
        "        for batch in dataloader:\n",
        "            inputs, targets = batch\n",
        "            print(targets.shape)\n",
        "            inputs, targets = inputs.to(device), targets.to(device)\n",
        "\n",
        "\n",
        "            optimizer.zero_grad()\n",
        "\n",
        "            # Forward pass\n",
        "            scores, summary_tokens = model(inputs)\n",
        "\n",
        "            # Reshape or align outputs and targets if necessary\n",
        "            # Example: outputs might need to be reshaped or targets might need to be converted\n",
        "            # This depends on the specific output format of your model and the criterion requirements\n",
        "            # loss = criterion(outputs.view(-1, outputs.size(-1)), targets.view(-1))\n",
        "\n",
        "            print(targets.shape, outputs.shape)\n",
        "\n",
        "\n",
        "            loss = criterion(outputs.view(-1, outputs.size(-1)), targets.view(-1))\n",
        "            loss.backward()\n",
        "            optimizer.step()\n",
        "\n",
        "            total_loss += loss.item()\n",
        "\n",
        "        avg_loss = total_loss / len(dataloader)\n",
        "        loss_history.append(avg_loss)\n",
        "        print(f'Epoch {epoch+1}/{epochs}, Loss: {avg_loss:.4f}')\n",
        "\n",
        "    return loss_history\n",
        "\n",
        "def evaluate(model, dataloader, criterion, device):\n",
        "    model.eval()\n",
        "    total_loss = 0\n",
        "\n",
        "    with torch.no_grad():\n",
        "        for batch in dataloader:\n",
        "            inputs, targets = batch\n",
        "            inputs, targets = inputs.to(device), targets.to(device)\n",
        "\n",
        "            outputs = model(inputs)\n",
        "\n",
        "            # Same as in fit function, adjust loss calculation based on output and target format\n",
        "            # loss = criterion(outputs.view(-1, outputs.size(-1)), targets.view(-1))\n",
        "\n",
        "\n",
        "            loss = criterion(outputs, targets)\n",
        "            total_loss += loss.item()\n",
        "\n",
        "    avg_loss = total_loss / len(dataloader)\n",
        "    return avg_loss\n",
        "\n",
        "\n",
        "# Example usage\n",
        "# Assuming you have a dataloader for training and validation\n",
        "batch_size = 32\n",
        "train_dataloader, test_dataloader = create_dataloaders(batch_size)\n",
        "\n",
        "model = ExtractiveSummarizer(vocab_size=vocab.n_words, d_model=hidden_dim, num_layers=num_layers, dropout_rate=dropout, threshold=threshold).to(device)\n",
        "optimizer = optim.Adam(model.parameters(), lr=lr)\n",
        "criterion = nn.CrossEntropyLoss()\n",
        "\n",
        "epochs = 10\n",
        "train_loss_history = fit(model, train_dataloader, optimizer, criterion, epochs, device)\n",
        "val_loss = evaluate(model, test_dataloader, criterion)\n",
        "\n",
        "# Plotting\n",
        "plt.plot(train_loss_history, label='Training Loss')\n",
        "plt.xlabel('Epochs')\n",
        "plt.ylabel('Loss')\n",
        "plt.title('Training Loss Over Time')\n",
        "plt.legend()\n",
        "plt.show()"
      ]
    }
  ],
  "metadata": {
    "colab": {
      "provenance": []
    },
    "kernelspec": {
      "display_name": "Python 3",
      "name": "python3"
    },
    "language_info": {
      "codemirror_mode": {
        "name": "ipython",
        "version": 3
      },
      "file_extension": ".py",
      "mimetype": "text/x-python",
      "name": "python",
      "nbconvert_exporter": "python",
      "pygments_lexer": "ipython3",
      "version": "3.8.10"
    }
  },
  "nbformat": 4,
  "nbformat_minor": 0
}
