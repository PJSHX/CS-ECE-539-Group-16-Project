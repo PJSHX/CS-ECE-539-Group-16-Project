{
  "cells": [
    {
      "cell_type": "markdown",
      "metadata": {
        "id": "0oODuWQ5Hx1S"
      },
      "source": [
        "Contributors: \n",
        "Peter Harmer,\n",
        "Girish Dodda"
      ]
    },
    {
      "cell_type": "code",
      "execution_count": 2,
      "metadata": {},
      "outputs": [
        {
          "name": "stdout",
          "output_type": "stream",
          "text": [
            "Requirement already satisfied: pandas in c:\\users\\giris\\appdata\\local\\packages\\pythonsoftwarefoundation.python.3.8_qbz5n2kfra8p0\\localcache\\local-packages\\python38\\site-packages (2.0.3)\n",
            "Requirement already satisfied: pytz>=2020.1 in c:\\users\\giris\\appdata\\local\\packages\\pythonsoftwarefoundation.python.3.8_qbz5n2kfra8p0\\localcache\\local-packages\\python38\\site-packages (from pandas) (2023.3.post1)\n",
            "Requirement already satisfied: python-dateutil>=2.8.2 in c:\\users\\giris\\appdata\\local\\packages\\pythonsoftwarefoundation.python.3.8_qbz5n2kfra8p0\\localcache\\local-packages\\python38\\site-packages (from pandas) (2.8.2)\n",
            "Requirement already satisfied: numpy>=1.20.3 in c:\\users\\giris\\appdata\\local\\packages\\pythonsoftwarefoundation.python.3.8_qbz5n2kfra8p0\\localcache\\local-packages\\python38\\site-packages (from pandas) (1.24.4)\n",
            "Requirement already satisfied: tzdata>=2022.1 in c:\\users\\giris\\appdata\\local\\packages\\pythonsoftwarefoundation.python.3.8_qbz5n2kfra8p0\\localcache\\local-packages\\python38\\site-packages (from pandas) (2023.3)\n",
            "Requirement already satisfied: six>=1.5 in c:\\users\\giris\\appdata\\local\\packages\\pythonsoftwarefoundation.python.3.8_qbz5n2kfra8p0\\localcache\\local-packages\\python38\\site-packages (from python-dateutil>=2.8.2->pandas) (1.16.0)\n",
            "Note: you may need to restart the kernel to use updated packages.\n"
          ]
        },
        {
          "name": "stderr",
          "output_type": "stream",
          "text": [
            "WARNING: You are using pip version 21.1.1; however, version 23.3.1 is available.\n",
            "You should consider upgrading via the 'C:\\Users\\giris\\AppData\\Local\\Microsoft\\WindowsApps\\PythonSoftwareFoundation.Python.3.8_qbz5n2kfra8p0\\python.exe -m pip install --upgrade pip' command.\n"
          ]
        }
      ],
      "source": [
        "%pip install pandas"
      ]
    },
    {
      "cell_type": "code",
      "execution_count": 28,
      "metadata": {
        "id": "bcX_bBaHkcX8"
      },
      "outputs": [],
      "source": [
        "import numpy as np\n",
        "import pandas as pd\n",
        "import torch\n",
        "import torch.nn as nn\n",
        "import torch.nn.functional as F\n",
        "from collections import Counter\n",
        "import matplotlib.pyplot as plt\n",
        "from torch.utils.data import TensorDataset, DataLoader, RandomSampler\n",
        "import re"
      ]
    },
    {
      "cell_type": "code",
      "execution_count": 5,
      "metadata": {
        "id": "BC6LPiZIsD0g"
      },
      "outputs": [
        {
          "name": "stdout",
          "output_type": "stream",
          "text": [
            "GPU available: False\n"
          ]
        }
      ],
      "source": [
        "#Initializing\n",
        "gpu_available = torch.cuda.is_available()\n",
        "if gpu_available:\n",
        "    device = torch.device(\"cuda\")\n",
        "else:\n",
        "    device = torch.device(\"cpu\")\n",
        "\n",
        "print(\"GPU available: {}\".format(gpu_available))"
      ]
    },
    {
      "cell_type": "code",
      "execution_count": 17,
      "metadata": {
        "colab": {
          "base_uri": "https://localhost:8080/"
        },
        "id": "_Catgt9fdKQI",
        "outputId": "71930a90-9c53-4683-d573-7870a21a8262"
      },
      "outputs": [
        {
          "data": {
            "text/html": [
              "<div>\n",
              "<style scoped>\n",
              "    .dataframe tbody tr th:only-of-type {\n",
              "        vertical-align: middle;\n",
              "    }\n",
              "\n",
              "    .dataframe tbody tr th {\n",
              "        vertical-align: top;\n",
              "    }\n",
              "\n",
              "    .dataframe thead th {\n",
              "        text-align: right;\n",
              "    }\n",
              "</style>\n",
              "<table border=\"1\" class=\"dataframe\">\n",
              "  <thead>\n",
              "    <tr style=\"text-align: right;\">\n",
              "      <th></th>\n",
              "      <th>category</th>\n",
              "      <th>filename</th>\n",
              "      <th>title</th>\n",
              "      <th>content</th>\n",
              "    </tr>\n",
              "  </thead>\n",
              "  <tbody>\n",
              "    <tr>\n",
              "      <th>0</th>\n",
              "      <td>business</td>\n",
              "      <td>001.txt</td>\n",
              "      <td>Ad sales boost Time Warner profit</td>\n",
              "      <td>Quarterly profits at US media giant TimeWarne...</td>\n",
              "    </tr>\n",
              "    <tr>\n",
              "      <th>1</th>\n",
              "      <td>business</td>\n",
              "      <td>002.txt</td>\n",
              "      <td>Dollar gains on Greenspan speech</td>\n",
              "      <td>The dollar has hit its highest level against ...</td>\n",
              "    </tr>\n",
              "    <tr>\n",
              "      <th>2</th>\n",
              "      <td>business</td>\n",
              "      <td>003.txt</td>\n",
              "      <td>Yukos unit buyer faces loan claim</td>\n",
              "      <td>The owners of embattled Russian oil giant Yuk...</td>\n",
              "    </tr>\n",
              "    <tr>\n",
              "      <th>3</th>\n",
              "      <td>business</td>\n",
              "      <td>004.txt</td>\n",
              "      <td>High fuel prices hit BA's profits</td>\n",
              "      <td>British Airways has blamed high fuel prices f...</td>\n",
              "    </tr>\n",
              "    <tr>\n",
              "      <th>4</th>\n",
              "      <td>business</td>\n",
              "      <td>005.txt</td>\n",
              "      <td>Pernod takeover talk lifts Domecq</td>\n",
              "      <td>Shares in UK drinks and food firm Allied Dome...</td>\n",
              "    </tr>\n",
              "  </tbody>\n",
              "</table>\n",
              "</div>"
            ],
            "text/plain": [
              "   category filename                              title  \\\n",
              "0  business  001.txt  Ad sales boost Time Warner profit   \n",
              "1  business  002.txt   Dollar gains on Greenspan speech   \n",
              "2  business  003.txt  Yukos unit buyer faces loan claim   \n",
              "3  business  004.txt  High fuel prices hit BA's profits   \n",
              "4  business  005.txt  Pernod takeover talk lifts Domecq   \n",
              "\n",
              "                                             content  \n",
              "0   Quarterly profits at US media giant TimeWarne...  \n",
              "1   The dollar has hit its highest level against ...  \n",
              "2   The owners of embattled Russian oil giant Yuk...  \n",
              "3   British Airways has blamed high fuel prices f...  \n",
              "4   Shares in UK drinks and food firm Allied Dome...  "
            ]
          },
          "execution_count": 17,
          "metadata": {},
          "output_type": "execute_result"
        }
      ],
      "source": [
        "#Load & check Data\n",
        "\n",
        "colab = False\n",
        "\n",
        "if colab:\n",
        "    from google.colab import drive\n",
        "    drive.mount('/content/drive')\n",
        "    data = pd.read_csv('drive/My Drive/COMP SCI 539/bbc-news-data.csv', delimiter='\\t')\n",
        "else:\n",
        "    data = pd.read_csv('bbc-news-data.csv', delimiter='\\t')\n",
        "\n",
        "data.head()"
      ]
    },
    {
      "cell_type": "code",
      "execution_count": 23,
      "metadata": {
        "colab": {
          "base_uri": "https://localhost:8080/"
        },
        "id": "f4u3TdxIyGV3",
        "outputId": "8ccc99fb-ad19-4237-a3d0-8e5e4828b67e"
      },
      "outputs": [
        {
          "name": "stdout",
          "output_type": "stream",
          "text": [
            "category    0\n",
            "filename    0\n",
            "title       0\n",
            "content     0\n",
            "dtype: int64\n"
          ]
        },
        {
          "data": {
            "image/png": "[encoded data removed]",
            "text/plain": [
              "<Figure size 1000x600 with 1 Axes>"
            ]
          },
          "metadata": {},
          "output_type": "display_data"
        },
        {
          "data": {
            "image/png": "[encoded data removed]",
            "text/plain": [
              "<Figure size 1000x600 with 1 Axes>"
            ]
          },
          "metadata": {},
          "output_type": "display_data"
        }
      ],
      "source": [
        "#Data Preprocessing\n",
        "\n",
        "# Find and remove nulls\n",
        "print(data.isnull().sum())\n",
        "\n",
        "# Data to lowercase\n",
        "data[\"title\"] = data[\"title\"].str.lower()\n",
        "data[\"content\"] = data[\"content\"].str.lower()\n",
        "# Remove and replace contractions\n",
        "#Find more contraction in text and add\n",
        "contraction_dict = {\"can't\":\"cannot\",\"didn't\":\"did not\",\"aren't\":\"are not\",\"she'd\":\"she would\",\"he'd\":\"he would\",\"they'd\":\"they would\",\"they've\":\"they have\",\n",
        "\"shouldn't\":\"should not\",\"shouldn't've\":\"should not have\",\"she'll\":\"she will\",\"he'll\":\"he will\",\"they'll\":\"they will\"\n",
        "}\n",
        "\n",
        "def contraction_replacer(text):\n",
        "    for word in text.split():\n",
        "        if word in contraction_dict:\n",
        "            text = text.replace(word, contraction_dict[word])\n",
        "    return text\n",
        "\n",
        "data[\"title\"] = data[\"title\"].apply(contraction_replacer)\n",
        "data[\"content\"] = data[\"content\"].apply(contraction_replacer)\n",
        "\n",
        "# Remove punctuation and numbers\n",
        "#Find more punctuation in text and add\n",
        "\n",
        "punctuation_numbers = '!\"#$%&()*+,-./:;<=>?@[\\]^_`{|}~0123456789'\n",
        "\n",
        "def punctuation_numbers_remover(text):\n",
        "    for punctuation in punctuation_numbers:\n",
        "        text = text.replace(punctuation, '')\n",
        "    return text\n",
        "\n",
        "data[\"title\"] = data[\"title\"].apply(punctuation_numbers_remover)\n",
        "data[\"content\"] = data[\"content\"].apply(punctuation_numbers_remover)\n",
        "\n",
        "data.head()\n",
        "\n",
        "# plot the distribution of the lengths of the sequences\n",
        "content_lengths = [len(content.split()) for content in data[\"content\"]]\n",
        "\n",
        "\n",
        "plt.figure(figsize=(10, 6))  # Set the size of the plot\n",
        "plt.hist(content_lengths, bins=50, color='blue',\n",
        "         alpha=0.7)  # Adjust bins as needed\n",
        "plt.title('Histogram of Document Lengths')\n",
        "plt.xlabel('Document Length (in words)')\n",
        "plt.ylabel('Number of Documents')\n",
        "plt.grid(True)\n",
        "plt.show()\n",
        "\n",
        "# remove the outliers\n",
        "MAX_CONTENT_LENGTH = 1000\n",
        "MAX_TITLE_LENGTH = 10\n",
        "# get the indices of the documents that have more than 1000 words\n",
        "outliers = [idx for idx, length in enumerate(\n",
        "    content_lengths) if length > MAX_CONTENT_LENGTH]\n",
        "\n",
        "# remove the outliers from the data\n",
        "data = data.drop(outliers, axis=0).reset_index(drop=True)\n",
        "\n",
        "# plot the distribution of the lengths of the sequences\n",
        "content_lengths = [len(content.split()) for content in data[\"content\"]]\n",
        "plt.figure(figsize=(10, 6))  # Set the size of the plot\n",
        "plt.hist(content_lengths, bins=50, color='blue',\n",
        "         alpha=0.7)  # Adjust bins as needed\n",
        "plt.title('Histogram of Document Lengths')\n",
        "plt.xlabel('Document Length (in words)')\n",
        "plt.ylabel('Number of Documents')\n",
        "plt.grid(True)\n",
        "plt.show()"
      ]
    },
    {
      "cell_type": "code",
      "execution_count": 24,
      "metadata": {},
      "outputs": [
        {
          "name": "stdout",
          "output_type": "stream",
          "text": [
            "Creating vocab...\n",
            "Number of words in vocab: 31563\n",
            "Original text:  malaysia's central bank is to relax restrictions on foreign ownership to encourage islamic banking  banks in malaysia will now be able to sell up to  of their islamic banking units while the limit on other kinds of bank remains at  rhb malaysia's thirdbiggest lender is already scouting for a foreign partner for its new islamic banking unit the firm told reuters the moves put malaysia ahead of a  deadline to open up the sector the country's deal to join the world trade organisation set that year as a deadline for liberalisation of islamic banking also on tuesday the central bank released growth figures showing malaysia's economy expanded  in  but growth slowed sharply in the fourth quarter to  and the central bank said it expected  expansion in   malaysia changed the law to allow islamic banking in  it has granted licences to three middle eastern groups which  along with local players  mean there are eight fullyoperational islamic banking groups in the country islamic banks offer services which permit modern banking principles while sticking to islamic law's ban on the payment of interest most of the malays which make up half the country's population are muslims \n",
            "Tokenized text: [1, 6002, 2026, 282, 26, 13, 2678, 3701, 62, 371, 2169, 13, 1955, 6003, 1555, 413, 32, 6004, 99, 27, 349, 3112, 13, 1880, 102, 13, 29, 706, 6003, 1555, 3373, 142, 17, 1679, 62, 655, 6005, 29, 282, 298, 7, 6006, 6002, 5180, 5181, 26, 180, 6007, 16, 53, 371, 5212, 16, 46, 243, 6003, 1555, 392, 17, 24, 439, 440, 17, 3333, 1093, 6004, 255, 29, 53, 2646, 13, 2037, 102, 17, 1563, 17, 928, 185, 13, 1857, 17, 613, 224, 941, 192, 64, 291, 171, 53, 2646, 16, 3796, 29, 6003, 1555, 105, 62, 1106, 17, 2026, 282, 2031, 164, 720, 1063, 6002, 715, 2395, 32, 68, 164, 1590, 3061, 32, 17, 43, 44, 13, 39, 17, 2026, 282, 42, 65, 548, 1548, 32, 6004, 2881, 17, 451, 13, 2075, 6003, 1555, 32, 65, 72, 4670, 5486, 13, 18, 2664, 963, 3802, 25, 907, 200, 973, 6008, 797, 850, 387, 1371, 6009, 6003, 1555, 3802, 32, 17, 2047, 6003, 413, 1434, 1879, 25, 6010, 4602, 1555, 6011, 142, 6012, 13, 6003, 6013, 6014, 62, 17, 2842, 29, 335, 1567, 29, 17, 6015, 25, 871, 102, 379, 17, 928, 892, 387, 6016, 2]\n",
            "Converted text: SOS malaysia's central bank is to relax restrictions on foreign ownership to encourage islamic banking banks in malaysia will now be able to sell up to of their islamic banking units while the limit on other kinds of bank remains at rhb malaysia's thirdbiggest lender is already scouting for a foreign partner for its new islamic banking unit the firm told reuters the moves put malaysia ahead of a deadline to open up the sector the country's deal to join the world trade organisation set that year as a deadline for liberalisation of islamic banking also on tuesday the central bank released growth figures showing malaysia's economy expanded in but growth slowed sharply in the fourth quarter to and the central bank said it expected expansion in malaysia changed the law to allow islamic banking in it has granted licences to three middle eastern groups which along with local players mean there are eight fullyoperational islamic banking groups in the country islamic banks offer services which permit modern banking principles while sticking to islamic law's ban on the payment of interest most of the malays which make up half the country's population are muslims EOS\n"
          ]
        }
      ],
      "source": [
        "SOS_token = 0\n",
        "EOS_token = 1\n",
        "\n",
        "\n",
        "class Vocab:\n",
        "    def __init__(self):\n",
        "        self.word2index = {\"PAD\": 0, \"SOS\": 1, \"EOS\": 2, \"UNK\": 3}\n",
        "        self.index2word = {0: \"PAD\", 1: \"SOS\", 2: \"EOS\", 3: \"UNK\"}\n",
        "        self.word2count = {}\n",
        "        self.n_words = 4  # Count SOS and EOS\n",
        "\n",
        "    def addSentence(self, sentence):\n",
        "        for word in sentence.split(' '):\n",
        "            self.addWord(word)\n",
        "\n",
        "    def addWord(self, word):\n",
        "        if word not in self.word2index:\n",
        "            self.word2index[word] = self.n_words\n",
        "            self.word2count[word] = 1\n",
        "            self.index2word[self.n_words] = word\n",
        "            self.n_words += 1\n",
        "        else:\n",
        "            self.word2count[word] += 1\n",
        "\n",
        "    def tokenize(self, sentence, seq_len=None):\n",
        "        # Add Start Of Sentence token\n",
        "        token_seq_idx = [self.word2index[\"SOS\"]]\n",
        "\n",
        "        # Tokenize each word in sentence\n",
        "        for tkn in sentence.split():\n",
        "            token_seq_idx.append(\n",
        "                self.word2index[tkn if tkn in self.word2index else \"UNK\"])\n",
        "\n",
        "        # Add End Of Sentence token\n",
        "        token_seq_idx.append(self.word2index[\"EOS\"])\n",
        "\n",
        "        if seq_len is not None:\n",
        "            if len(token_seq_idx) < seq_len:\n",
        "                # Pad to desired length\n",
        "                token_seq_idx += [self.word2index[\"PAD\"]] * \\\n",
        "                    (seq_len - len(token_seq_idx))\n",
        "            else:\n",
        "                # Trim sentence to length\n",
        "                token_seq_idx = token_seq_idx[:seq_len]\n",
        "\n",
        "        return token_seq_idx\n",
        "\n",
        "    def list2sentence(self, seq_ids):\n",
        "        return \" \".join([self.index2word[idx] for idx in seq_ids])\n",
        "\n",
        "\n",
        "print(\"Creating vocab...\")\n",
        "vocab = Vocab()\n",
        "for content in data[\"content\"]:\n",
        "    vocab.addSentence(content)\n",
        "\n",
        "# Test it out\n",
        "print(\"Number of words in vocab: {}\".format(vocab.n_words))\n",
        "# pick a random sequence from the data\n",
        "random_idx = np.random.randint(0, len(data))\n",
        "print(\"Original text: {}\".format(data[\"content\"][random_idx]))\n",
        "# tokenize the text\n",
        "tokenized_text = vocab.tokenize(data[\"content\"][random_idx])\n",
        "print(\"Tokenized text: {}\".format(tokenized_text))\n",
        "# convert back to text\n",
        "converted_text = vocab.list2sentence(tokenized_text)\n",
        "print(\"Converted text: {}\".format(converted_text))"
      ]
    },
    {
      "cell_type": "code",
      "execution_count": 29,
      "metadata": {},
      "outputs": [
        {
          "name": "stdout",
          "output_type": "stream",
          "text": [
            "Creating dataloaders with 2204 samples...\n",
            "Batch | cont = torch.Size([32, 1002]) | titl = torch.Size([32, 12])\n",
            "First content:  SOS the uk's biggest brewer scottish and newcastle sn is to buy of india's united breweries in a deal worth bn rupees m£m sn will buy a equity stake in united maker of the wellknown kingfisher lager brand and make a public offer to buy another stake a similar holding will be controlled by vijay mallya chair of the indian firm the deal was a natural development of its joint venture with united said tony froggatt sn's chief executive its top brands include newcastle brown ale foster's john smith's strongbow and kronenbourg in sn and united agreed to form a strategic partnership one that would include a joint venture business and a uk investment in the indian brewer the joint venture was established in may with both parties having a stake in the venture millennium alcobev millennium alcobev will now be merged with united which expects postmerger to have about half of india's beer market india with a population of more than one billion consumes about billion bottles of beer every year kingfisher has market share of about in addition to the equity stake sn is to invest bn rupees in united through nonconvertible redeemable preference shares meanwhile united's budget airline kingfisher airlines is to buy a aircraft from airbus and has the option to buy more aircraft in a deal worth up to bn the airline the brainchild of mr mallya expects to start its operations by the end of april the new airline would break even in the very first year of operation mr mallya said EOS PAD PAD PAD PAD PAD PAD PAD PAD PAD PAD PAD PAD PAD PAD PAD PAD PAD PAD PAD PAD PAD PAD PAD PAD PAD PAD PAD PAD PAD PAD PAD PAD PAD PAD PAD PAD PAD PAD PAD PAD PAD PAD PAD PAD PAD PAD PAD PAD PAD PAD PAD PAD PAD PAD PAD PAD PAD PAD PAD PAD PAD PAD PAD PAD PAD PAD PAD PAD PAD PAD PAD PAD PAD PAD PAD PAD PAD PAD PAD PAD PAD PAD PAD PAD PAD PAD PAD PAD PAD PAD PAD PAD PAD PAD PAD PAD PAD PAD PAD PAD PAD PAD PAD PAD PAD PAD PAD PAD PAD PAD PAD PAD PAD PAD PAD PAD PAD PAD PAD PAD PAD PAD PAD PAD PAD PAD PAD PAD PAD PAD PAD PAD PAD PAD PAD PAD PAD PAD PAD PAD PAD PAD PAD PAD PAD PAD PAD PAD PAD PAD PAD PAD PAD PAD PAD PAD PAD PAD PAD PAD PAD PAD PAD PAD PAD PAD PAD PAD PAD PAD PAD PAD PAD PAD PAD PAD PAD PAD PAD PAD PAD PAD PAD PAD PAD PAD PAD PAD PAD PAD PAD PAD PAD PAD PAD PAD PAD PAD PAD PAD PAD PAD PAD PAD PAD PAD PAD PAD PAD PAD PAD PAD PAD PAD PAD PAD PAD PAD PAD PAD PAD PAD PAD PAD PAD PAD PAD PAD PAD PAD PAD PAD PAD PAD PAD PAD PAD PAD PAD PAD PAD PAD PAD PAD PAD PAD PAD PAD PAD PAD PAD PAD PAD PAD PAD PAD PAD PAD PAD PAD PAD PAD PAD PAD PAD PAD PAD PAD PAD PAD PAD PAD PAD PAD PAD PAD PAD PAD PAD PAD PAD PAD PAD PAD PAD PAD PAD PAD PAD PAD PAD PAD PAD PAD PAD PAD PAD PAD PAD PAD PAD PAD PAD PAD PAD PAD PAD PAD PAD PAD PAD PAD PAD PAD PAD PAD PAD PAD PAD PAD PAD PAD PAD PAD PAD PAD PAD PAD PAD PAD PAD PAD PAD PAD PAD PAD PAD PAD PAD PAD PAD PAD PAD PAD PAD PAD PAD PAD PAD PAD PAD PAD PAD PAD PAD PAD PAD PAD PAD PAD PAD PAD PAD PAD PAD PAD PAD PAD PAD PAD PAD PAD PAD PAD PAD PAD PAD PAD PAD PAD PAD PAD PAD PAD PAD PAD PAD PAD PAD PAD PAD PAD PAD PAD PAD PAD PAD PAD PAD PAD PAD PAD PAD PAD PAD PAD PAD PAD PAD PAD PAD PAD PAD PAD PAD PAD PAD PAD PAD PAD PAD PAD PAD PAD PAD PAD PAD PAD PAD PAD PAD PAD PAD PAD PAD PAD PAD PAD PAD PAD PAD PAD PAD PAD PAD PAD PAD PAD PAD PAD PAD PAD PAD PAD PAD PAD PAD PAD PAD PAD PAD PAD PAD PAD PAD PAD PAD PAD PAD PAD PAD PAD PAD PAD PAD PAD PAD PAD PAD PAD PAD PAD PAD PAD PAD PAD PAD PAD PAD PAD PAD PAD PAD PAD PAD PAD PAD PAD PAD PAD PAD PAD PAD PAD PAD PAD PAD PAD PAD PAD PAD PAD PAD PAD PAD PAD PAD PAD PAD PAD PAD PAD PAD PAD PAD PAD PAD PAD PAD PAD PAD PAD PAD PAD PAD PAD PAD PAD PAD PAD PAD PAD PAD PAD PAD PAD PAD PAD PAD PAD PAD PAD PAD PAD PAD PAD PAD PAD PAD PAD PAD PAD PAD PAD PAD PAD PAD PAD PAD PAD PAD PAD PAD PAD PAD PAD PAD PAD PAD PAD PAD PAD PAD PAD PAD PAD PAD PAD PAD PAD PAD PAD PAD PAD PAD PAD PAD PAD PAD PAD PAD PAD PAD PAD PAD PAD PAD PAD PAD PAD PAD PAD PAD PAD PAD PAD PAD PAD PAD PAD PAD PAD PAD PAD PAD PAD PAD PAD PAD PAD PAD PAD PAD PAD PAD PAD PAD PAD PAD PAD PAD PAD PAD PAD PAD PAD PAD PAD PAD PAD PAD PAD PAD PAD PAD PAD PAD PAD PAD PAD PAD PAD PAD PAD PAD PAD PAD PAD PAD PAD PAD PAD PAD PAD PAD PAD PAD PAD PAD PAD PAD PAD PAD PAD PAD PAD PAD PAD PAD PAD PAD PAD PAD PAD PAD PAD PAD PAD PAD PAD PAD PAD PAD PAD PAD PAD PAD PAD PAD PAD PAD PAD PAD PAD PAD PAD PAD PAD PAD PAD PAD PAD PAD PAD PAD PAD PAD PAD PAD PAD PAD PAD PAD PAD PAD PAD PAD PAD PAD PAD PAD PAD PAD\n",
            "First title: SOS sn extends indian beer venture EOS PAD PAD PAD PAD PAD\n"
          ]
        }
      ],
      "source": [
        "def create_dataloaders(batch_size):\n",
        "    # Create two huge tensor with all english and french sentences\n",
        "    n = len(data)\n",
        "    print(\"Creating dataloaders with {} samples...\".format(n))\n",
        "    content_seqs_ids = torch.zeros((n, MAX_CONTENT_LENGTH+2)).long()\n",
        "    title_seqs_ids = torch.zeros((n, MAX_TITLE_LENGTH+2)).long()\n",
        "\n",
        "    for idx, content in enumerate(data[\"content\"]):\n",
        "        # Tokenize and add to tensor\n",
        "        content_seqs_ids[idx] = torch.tensor(\n",
        "            vocab.tokenize(content, seq_len=MAX_CONTENT_LENGTH+2))\n",
        "        \n",
        "    for idx, title in enumerate(data[\"title\"]):\n",
        "        title_seqs_ids[idx] = torch.tensor(\n",
        "            vocab.tokenize(title, seq_len=MAX_TITLE_LENGTH+2))\n",
        "\n",
        "    # Split into training and testing\n",
        "    train_sample_mask = torch.rand((n,)) > 0.3\n",
        "\n",
        "    train_content_seqs_ids = content_seqs_ids[train_sample_mask]\n",
        "    train_title_seqs_ids = title_seqs_ids[train_sample_mask]\n",
        "    test_content_seqs_ids = content_seqs_ids[~train_sample_mask]\n",
        "    test_title_seqs_ids = title_seqs_ids[~train_sample_mask]\n",
        "    \n",
        "\n",
        "    # Create train dataloader\n",
        "    train_data = TensorDataset(train_content_seqs_ids.to(\n",
        "        device), train_title_seqs_ids.to(device))\n",
        "    train_dataloader = DataLoader(\n",
        "        train_data, sampler=RandomSampler(train_data), batch_size=batch_size)\n",
        "\n",
        "    # Create test dataloader\n",
        "    test_data = TensorDataset(test_content_seqs_ids.to(\n",
        "        device), test_title_seqs_ids.to(device))\n",
        "    # test_dataloader = DataLoader(test_data, sampler=RandomSampler(train_data), batch_size=batch_size)\n",
        "    return train_dataloader, test_data\n",
        "\n",
        "\n",
        "# Test the dataloader\n",
        "train_dataloader, test_data = create_dataloaders(32)\n",
        "for cont, titl in train_dataloader:\n",
        "    print('Batch | cont =', cont.shape, '| titl =', titl.shape)\n",
        "    print('First content: ', vocab.list2sentence(cont[0].tolist()))\n",
        "    print('First title:', vocab.list2sentence(titl[0].tolist()))\n",
        "    break"
      ]
    },
    {
      "cell_type": "code",
      "execution_count": 10,
      "metadata": {
        "id": "kAIuZL6A3aNy"
      },
      "outputs": [],
      "source": [
        "class Encoder(nn.Module):\n",
        "  def __init__(self, input_size, output_size, hid_dim, emb_dim, n_layers, dropout):\n",
        "    super().__init__()\n",
        "\n",
        "    self.hid_dim = hid_dim\n",
        "    self.n_layers = n_layers\n",
        "\n",
        "    self.embedding = nn.Embedding(input_size,emb_dim)\n",
        "\n",
        "    self.rnn = nn.RNN(input_size, hid_dim, n_layers, batch_first=True, dropout=dropout)\n",
        "\n",
        "    self.dropout = nn.Dropout(dropout)\n",
        "\n",
        "  def forward(self, input):\n",
        "    print(input.shape)\n",
        "    embedded = self.embedding(input)\n",
        "    print(input.shape)\n",
        "    print(input.dtype)\n",
        "    embedded = self.dropout(input)\n",
        "    print(embedded.shape)\n",
        "    outputs, (hid_state, cell_state) = self.rnn(embedded)\n",
        "    return hid_state , cell_state\n",
        "\n",
        "\n",
        "class Decoder(nn.Module):\n",
        "  def __init__(self, input_size, output_size, hid_dim, emb_dim, n_layers, dropout):\n",
        "    super().__init__()\n",
        "\n",
        "    self.out_size = output_size\n",
        "    self.emb_dim = emb_dim\n",
        "    self.hid_dim = hid_dim\n",
        "    self.n_layers = n_layers\n",
        "\n",
        "    self.embedding = self.embedding = nn.Embedding(output_size, emb_dim)\n",
        "\n",
        "    self.rnn = nn.RNN(input_size, hid_dim, n_layers, batch_first=True, dropout=dropout)\n",
        "    self.out = nn.Linear(hid_dim, output_size)\n",
        "\n",
        "    self.dropout = nn.Dropout(dropout)\n",
        "\n",
        "  def forward(self, input, hid_state, cell_state):\n",
        "\n",
        "    input = input.unsqueeze(0)\n",
        "    embedded = self.dropout(self.embedding(input))\n",
        "\n",
        "    output, (hid_state, cell_state) = self.rnn(embedded,(hid_state, cell_state))\n",
        "\n",
        "    result = self.out(output.squeeze(0))\n",
        "\n",
        "    return result, hid_state, cell_state\n",
        "\n"
      ]
    },
    {
      "cell_type": "code",
      "execution_count": 11,
      "metadata": {
        "id": "QjT2QepVX1qo"
      },
      "outputs": [],
      "source": [
        "#Recurrent Network Frame\n",
        "\n",
        "\n",
        "\"\"\" Removed For Error Identification\n",
        "#Encoder(input_size, hid_dim, hid_dim, emb_dim, n_layers, dropout),\n",
        "      #nn.LSTM(hid_dim, hid_dim, n_layers, batch_first=True, dropout=dropout),\n",
        "      self.layers = nn.Sequential(\n",
        "      ,\n",
        "      ,\n",
        "      ,\n",
        "      #nn.LSTM(hid_dim, hid_dim, n_layers, batch_first=True, dropout=dropout),\n",
        "      #Decoder(hid_dim, output_size, hid_dim, emb_dim, n_layers, dropout),\n",
        "    )\n",
        "\n",
        "\"\"\"\n",
        "class base_rnn(nn.Module):\n",
        "    def __init__(self, input_size, output_size, hid_dim, n_layers, emb_dim, dropout, device):\n",
        "        super().__init__()\n",
        "        self.hid_dim = hid_dim\n",
        "        self.n_layers = n_layers\n",
        "\n",
        "        #Initial setup\n",
        "        self.device = device\n",
        "        self.RNN_one = nn.LSTM(input_size, hid_dim, n_layers, batch_first=True, dropout=dropout).to(self.device)\n",
        "        self.RNN_two = nn.LSTM(hid_dim, hid_dim, n_layers, batch_first=True, dropout=dropout).to(self.device)\n",
        "        self.RNN_three = nn.LSTM(hid_dim, output_size, n_layers, batch_first=True, dropout=dropout).to(self.device)\n",
        "\n",
        "    def forward(self, x):\n",
        "      #batch_size = len(x)\n",
        "      x = x.float()\n",
        "      x = x.to(self.device)\n",
        "      out, states  = self.RNN_one(x)\n",
        "      out, states = self.RNN_two(out)\n",
        "      out, states = self.RNN_three(out)\n",
        "      return out"
      ]
    },
    {
      "cell_type": "code",
      "execution_count": 12,
      "metadata": {
        "id": "Sm__WyTsr6g6"
      },
      "outputs": [],
      "source": [
        "#Hyperparameters\n",
        "dropout = 0.1\n",
        "hidden_dim = 512\n",
        "lr= 0.01\n",
        "n_epochs = 20\n",
        "summation_length = 10\n",
        "\n",
        "# Test Values\n",
        "\n",
        "#Input size\n",
        "input_size = 10\n",
        "#Output size\n",
        "output_size = 10"
      ]
    },
    {
      "cell_type": "code",
      "execution_count": 13,
      "metadata": {
        "colab": {
          "base_uri": "https://localhost:8080/"
        },
        "id": "REDn0vk3AqTX",
        "outputId": "f4bb1aaa-76a9-40f6-c208-65823853fbca"
      },
      "outputs": [
        {
          "data": {
            "text/plain": [
              "base_rnn(\n",
              "  (RNN_one): LSTM(10, 512, num_layers=10, batch_first=True, dropout=0.1)\n",
              "  (RNN_two): LSTM(512, 512, num_layers=10, batch_first=True, dropout=0.1)\n",
              "  (RNN_three): LSTM(512, 10, num_layers=10, batch_first=True, dropout=0.1)\n",
              ")"
            ]
          },
          "execution_count": 13,
          "metadata": {},
          "output_type": "execute_result"
        }
      ],
      "source": [
        "#Testing for creation errors\n",
        "model = base_rnn(input_size, output_size, hidden_dim, summation_length, vocab_size, dropout, device)\n",
        "model"
      ]
    },
    {
      "cell_type": "code",
      "execution_count": 14,
      "metadata": {
        "id": "0OhglBZODk1Z"
      },
      "outputs": [],
      "source": [
        "#output testing\n",
        "\n",
        "#Hyperparameters\n",
        "dropout = 0.1\n",
        "hidden_dim = 512\n",
        "lr= 0.01\n",
        "n_epochs = 200\n",
        "summation_length = 10\n",
        "\n",
        "# test row\n",
        "test_row = 6\n",
        "\n",
        "#Input Data\n",
        "input_corpus = corpus_processing(data, \"content\")\n",
        "\n",
        "input_vocab_size = len(input_corpus) + 2\n",
        "tkn_counter = Counter([word for word in input_corpus])\n",
        "vocab = {word: idx for idx, (word, _) in enumerate(tkn_counter.most_common(input_vocab_size))}\n",
        "vocab[\"/UNK\"] = len(vocab)\n",
        "vocab[\"/PAD\"] = len(vocab)\n",
        "\n",
        "\n",
        "# Output Data\n",
        "output_corpus = corpus_processing(data, \"title\")\n",
        "\n",
        "train_ratio = 0.8\n",
        "split_idx = int(len(input_corpus) * train_ratio)\n",
        "\n",
        "train_corpus_sum = input_corpus[:split_idx]\n",
        "val_corpus_sum = input_corpus[split_idx:]\n",
        "\n",
        "train_corpus_tar = output_corpus[:split_idx]\n",
        "val_corpus_tar = output_corpus[split_idx:]\n",
        "\n",
        "\n",
        "train_dataset = CorpusConversion(train_corpus_sum, train_corpus_tar , vocab, summation_length)\n",
        "val_dataset = CorpusConversion(val_corpus_sum, train_corpus_tar, vocab, summation_length)\n",
        "\n",
        "#Target Data\n",
        "#target_corpus = corpus_processing(data[data.index == test_row], \"title\")\n",
        "\n",
        "\n",
        "#vocab_size = len(np.unique(corpus)) + 1\n",
        "#tkn_counter = Counter([word for word in corpus])\n",
        "#vocab = {word: idx for idx, (word, _) in enumerate(tkn_counter.most_common(vocab_size))}\n",
        "#vocab[\"/UNK\"] = len(vocab)"
      ]
    },
    {
      "cell_type": "code",
      "execution_count": 15,
      "metadata": {
        "colab": {
          "base_uri": "https://localhost:8080/",
          "height": 245
        },
        "id": "Ft3uhUZqp5yk",
        "outputId": "2860eb75-530c-4393-8afa-5c787431ebce"
      },
      "outputs": [
        {
          "ename": "KeyboardInterrupt",
          "evalue": "ignored",
          "output_type": "error",
          "traceback": [
            "\u001b[0;31m---------------------------------------------------------------------------\u001b[0m",
            "\u001b[0;31mKeyboardInterrupt\u001b[0m                         Traceback (most recent call last)",
            "\u001b[0;32m<ipython-input-15-3ae1e0b578d6>\u001b[0m in \u001b[0;36m<cell line: 2>\u001b[0;34m()\u001b[0m\n\u001b[1;32m      1\u001b[0m \u001b[0minput\u001b[0m \u001b[0;34m=\u001b[0m \u001b[0mtorch\u001b[0m\u001b[0;34m.\u001b[0m\u001b[0mtensor\u001b[0m\u001b[0;34m(\u001b[0m\u001b[0mtrain_dataset\u001b[0m\u001b[0;34m.\u001b[0m\u001b[0mconvert2idx\u001b[0m\u001b[0;34m(\u001b[0m\u001b[0mdata\u001b[0m\u001b[0;34m[\u001b[0m\u001b[0;34m'content'\u001b[0m\u001b[0;34m]\u001b[0m\u001b[0;34m[\u001b[0m\u001b[0;36m5\u001b[0m\u001b[0;34m]\u001b[0m\u001b[0;34m)\u001b[0m\u001b[0;34m)\u001b[0m\u001b[0;34m\u001b[0m\u001b[0;34m\u001b[0m\u001b[0m\n\u001b[0;32m----> 2\u001b[0;31m \u001b[0minput\u001b[0m \u001b[0;34m=\u001b[0m \u001b[0mF\u001b[0m\u001b[0;34m.\u001b[0m\u001b[0mone_hot\u001b[0m\u001b[0;34m(\u001b[0m\u001b[0minput\u001b[0m\u001b[0;34m,\u001b[0m\u001b[0minput_vocab_size\u001b[0m\u001b[0;34m)\u001b[0m\u001b[0;34m.\u001b[0m\u001b[0mfloat\u001b[0m\u001b[0;34m(\u001b[0m\u001b[0;34m)\u001b[0m\u001b[0;34m\u001b[0m\u001b[0;34m\u001b[0m\u001b[0m\n\u001b[0m\u001b[1;32m      3\u001b[0m \u001b[0mprint\u001b[0m\u001b[0;34m(\u001b[0m\u001b[0minput\u001b[0m\u001b[0;34m.\u001b[0m\u001b[0mshape\u001b[0m\u001b[0;34m)\u001b[0m\u001b[0;34m\u001b[0m\u001b[0;34m\u001b[0m\u001b[0m\n\u001b[1;32m      4\u001b[0m \u001b[0;31m#input = input.reshape(187,1, (len(input)))\u001b[0m\u001b[0;34m\u001b[0m\u001b[0;34m\u001b[0m\u001b[0m\n\u001b[1;32m      5\u001b[0m \u001b[0mmodel\u001b[0m \u001b[0;34m=\u001b[0m \u001b[0mbase_rnn\u001b[0m\u001b[0;34m(\u001b[0m\u001b[0mlen\u001b[0m\u001b[0;34m(\u001b[0m\u001b[0minput\u001b[0m\u001b[0;34m)\u001b[0m\u001b[0;34m,\u001b[0m \u001b[0;36m10\u001b[0m\u001b[0;34m,\u001b[0m \u001b[0mhidden_dim\u001b[0m\u001b[0;34m,\u001b[0m \u001b[0msummation_length\u001b[0m\u001b[0;34m,\u001b[0m \u001b[0minput_vocab_size\u001b[0m\u001b[0;34m,\u001b[0m \u001b[0mdropout\u001b[0m\u001b[0;34m)\u001b[0m\u001b[0;34m\u001b[0m\u001b[0;34m\u001b[0m\u001b[0m\n",
            "\u001b[0;31mKeyboardInterrupt\u001b[0m: "
          ]
        }
      ],
      "source": [
        "input = torch.tensor(train_dataset.convert2idx(data['content'][5]))\n",
        "input = F.one_hot(input,input_vocab_size).float()\n",
        "print(input.shape)\n",
        "#input = input.reshape(187,1, (len(input)))\n",
        "model = base_rnn(len(input), 10, hidden_dim, summation_length, input_vocab_size, dropout)\n",
        "result = model(input)\n",
        "\n",
        "test_sentence = result.argmax(dim=1).tolist()\n",
        "print(test_sentence[:10])\n",
        "train_dataset.convert2word(test_sentence[:10])"
      ]
    },
    {
      "cell_type": "code",
      "execution_count": 24,
      "metadata": {
        "colab": {
          "base_uri": "https://localhost:8080/",
          "height": 407
        },
        "id": "46vDDDnG2AGi",
        "outputId": "4376f883-7bec-4e0b-b28e-534ea1167ca4"
      },
      "outputs": [
        {
          "name": "stdout",
          "output_type": "stream",
          "text": [
            "torch.Size([32, 1]) torch.Size([32, 10])\n"
          ]
        },
        {
          "ename": "IndexError",
          "evalue": "ignored",
          "output_type": "error",
          "traceback": [
            "\u001b[0;31m---------------------------------------------------------------------------\u001b[0m",
            "\u001b[0;31mIndexError\u001b[0m                                Traceback (most recent call last)",
            "\u001b[0;32m<ipython-input-24-f6ba35c61263>\u001b[0m in \u001b[0;36m<cell line: 75>\u001b[0;34m()\u001b[0m\n\u001b[1;32m     73\u001b[0m \u001b[0;34m\u001b[0m\u001b[0m\n\u001b[1;32m     74\u001b[0m \u001b[0mepochs\u001b[0m \u001b[0;34m=\u001b[0m \u001b[0;36m10\u001b[0m\u001b[0;34m\u001b[0m\u001b[0;34m\u001b[0m\u001b[0m\n\u001b[0;32m---> 75\u001b[0;31m \u001b[0mtrain_loss_history\u001b[0m \u001b[0;34m=\u001b[0m \u001b[0mfit\u001b[0m\u001b[0;34m(\u001b[0m\u001b[0mmodel\u001b[0m\u001b[0;34m,\u001b[0m \u001b[0mtrain_dataloader\u001b[0m\u001b[0;34m,\u001b[0m \u001b[0moptimizer\u001b[0m\u001b[0;34m,\u001b[0m \u001b[0mcriterion\u001b[0m\u001b[0;34m,\u001b[0m \u001b[0mepochs\u001b[0m\u001b[0;34m,\u001b[0m \u001b[0mdevice\u001b[0m\u001b[0;34m)\u001b[0m\u001b[0;34m\u001b[0m\u001b[0;34m\u001b[0m\u001b[0m\n\u001b[0m\u001b[1;32m     76\u001b[0m \u001b[0mval_loss\u001b[0m \u001b[0;34m=\u001b[0m \u001b[0mevaluate\u001b[0m\u001b[0;34m(\u001b[0m\u001b[0mmodel\u001b[0m\u001b[0;34m,\u001b[0m \u001b[0mval_dataloader\u001b[0m\u001b[0;34m,\u001b[0m \u001b[0mcriterion\u001b[0m\u001b[0;34m)\u001b[0m\u001b[0;34m\u001b[0m\u001b[0;34m\u001b[0m\u001b[0m\n\u001b[1;32m     77\u001b[0m \u001b[0;34m\u001b[0m\u001b[0m\n",
            "\u001b[0;32m<ipython-input-24-f6ba35c61263>\u001b[0m in \u001b[0;36mfit\u001b[0;34m(model, dataloader, optimizer, criterion, epochs, device)\u001b[0m\n\u001b[1;32m     28\u001b[0m \u001b[0;34m\u001b[0m\u001b[0m\n\u001b[1;32m     29\u001b[0m \u001b[0;34m\u001b[0m\u001b[0m\n\u001b[0;32m---> 30\u001b[0;31m             \u001b[0mloss\u001b[0m \u001b[0;34m=\u001b[0m \u001b[0mcriterion\u001b[0m\u001b[0;34m(\u001b[0m\u001b[0moutputs\u001b[0m\u001b[0;34m.\u001b[0m\u001b[0mview\u001b[0m\u001b[0;34m(\u001b[0m\u001b[0;34m-\u001b[0m\u001b[0;36m1\u001b[0m\u001b[0;34m,\u001b[0m \u001b[0moutputs\u001b[0m\u001b[0;34m.\u001b[0m\u001b[0msize\u001b[0m\u001b[0;34m(\u001b[0m\u001b[0;34m-\u001b[0m\u001b[0;36m1\u001b[0m\u001b[0;34m)\u001b[0m\u001b[0;34m)\u001b[0m\u001b[0;34m,\u001b[0m \u001b[0mtargets\u001b[0m\u001b[0;34m.\u001b[0m\u001b[0mview\u001b[0m\u001b[0;34m(\u001b[0m\u001b[0;34m-\u001b[0m\u001b[0;36m1\u001b[0m\u001b[0;34m)\u001b[0m\u001b[0;34m)\u001b[0m\u001b[0;34m\u001b[0m\u001b[0;34m\u001b[0m\u001b[0m\n\u001b[0m\u001b[1;32m     31\u001b[0m             \u001b[0mloss\u001b[0m\u001b[0;34m.\u001b[0m\u001b[0mbackward\u001b[0m\u001b[0;34m(\u001b[0m\u001b[0;34m)\u001b[0m\u001b[0;34m\u001b[0m\u001b[0;34m\u001b[0m\u001b[0m\n\u001b[1;32m     32\u001b[0m             \u001b[0moptimizer\u001b[0m\u001b[0;34m.\u001b[0m\u001b[0mstep\u001b[0m\u001b[0;34m(\u001b[0m\u001b[0;34m)\u001b[0m\u001b[0;34m\u001b[0m\u001b[0;34m\u001b[0m\u001b[0m\n",
            "\u001b[0;32m/usr/local/lib/python3.10/dist-packages/torch/nn/modules/module.py\u001b[0m in \u001b[0;36m_wrapped_call_impl\u001b[0;34m(self, *args, **kwargs)\u001b[0m\n\u001b[1;32m   1516\u001b[0m             \u001b[0;32mreturn\u001b[0m \u001b[0mself\u001b[0m\u001b[0;34m.\u001b[0m\u001b[0m_compiled_call_impl\u001b[0m\u001b[0;34m(\u001b[0m\u001b[0;34m*\u001b[0m\u001b[0margs\u001b[0m\u001b[0;34m,\u001b[0m \u001b[0;34m**\u001b[0m\u001b[0mkwargs\u001b[0m\u001b[0;34m)\u001b[0m  \u001b[0;31m# type: ignore[misc]\u001b[0m\u001b[0;34m\u001b[0m\u001b[0;34m\u001b[0m\u001b[0m\n\u001b[1;32m   1517\u001b[0m         \u001b[0;32melse\u001b[0m\u001b[0;34m:\u001b[0m\u001b[0;34m\u001b[0m\u001b[0;34m\u001b[0m\u001b[0m\n\u001b[0;32m-> 1518\u001b[0;31m             \u001b[0;32mreturn\u001b[0m \u001b[0mself\u001b[0m\u001b[0;34m.\u001b[0m\u001b[0m_call_impl\u001b[0m\u001b[0;34m(\u001b[0m\u001b[0;34m*\u001b[0m\u001b[0margs\u001b[0m\u001b[0;34m,\u001b[0m \u001b[0;34m**\u001b[0m\u001b[0mkwargs\u001b[0m\u001b[0;34m)\u001b[0m\u001b[0;34m\u001b[0m\u001b[0;34m\u001b[0m\u001b[0m\n\u001b[0m\u001b[1;32m   1519\u001b[0m \u001b[0;34m\u001b[0m\u001b[0m\n\u001b[1;32m   1520\u001b[0m     \u001b[0;32mdef\u001b[0m \u001b[0m_call_impl\u001b[0m\u001b[0;34m(\u001b[0m\u001b[0mself\u001b[0m\u001b[0;34m,\u001b[0m \u001b[0;34m*\u001b[0m\u001b[0margs\u001b[0m\u001b[0;34m,\u001b[0m \u001b[0;34m**\u001b[0m\u001b[0mkwargs\u001b[0m\u001b[0;34m)\u001b[0m\u001b[0;34m:\u001b[0m\u001b[0;34m\u001b[0m\u001b[0;34m\u001b[0m\u001b[0m\n",
            "\u001b[0;32m/usr/local/lib/python3.10/dist-packages/torch/nn/modules/module.py\u001b[0m in \u001b[0;36m_call_impl\u001b[0;34m(self, *args, **kwargs)\u001b[0m\n\u001b[1;32m   1525\u001b[0m                 \u001b[0;32mor\u001b[0m \u001b[0m_global_backward_pre_hooks\u001b[0m \u001b[0;32mor\u001b[0m \u001b[0m_global_backward_hooks\u001b[0m\u001b[0;34m\u001b[0m\u001b[0;34m\u001b[0m\u001b[0m\n\u001b[1;32m   1526\u001b[0m                 or _global_forward_hooks or _global_forward_pre_hooks):\n\u001b[0;32m-> 1527\u001b[0;31m             \u001b[0;32mreturn\u001b[0m \u001b[0mforward_call\u001b[0m\u001b[0;34m(\u001b[0m\u001b[0;34m*\u001b[0m\u001b[0margs\u001b[0m\u001b[0;34m,\u001b[0m \u001b[0;34m**\u001b[0m\u001b[0mkwargs\u001b[0m\u001b[0;34m)\u001b[0m\u001b[0;34m\u001b[0m\u001b[0;34m\u001b[0m\u001b[0m\n\u001b[0m\u001b[1;32m   1528\u001b[0m \u001b[0;34m\u001b[0m\u001b[0m\n\u001b[1;32m   1529\u001b[0m         \u001b[0;32mtry\u001b[0m\u001b[0;34m:\u001b[0m\u001b[0;34m\u001b[0m\u001b[0;34m\u001b[0m\u001b[0m\n",
            "\u001b[0;32m/usr/local/lib/python3.10/dist-packages/torch/nn/modules/loss.py\u001b[0m in \u001b[0;36mforward\u001b[0;34m(self, input, target)\u001b[0m\n\u001b[1;32m   1177\u001b[0m \u001b[0;34m\u001b[0m\u001b[0m\n\u001b[1;32m   1178\u001b[0m     \u001b[0;32mdef\u001b[0m \u001b[0mforward\u001b[0m\u001b[0;34m(\u001b[0m\u001b[0mself\u001b[0m\u001b[0;34m,\u001b[0m \u001b[0minput\u001b[0m\u001b[0;34m:\u001b[0m \u001b[0mTensor\u001b[0m\u001b[0;34m,\u001b[0m \u001b[0mtarget\u001b[0m\u001b[0;34m:\u001b[0m \u001b[0mTensor\u001b[0m\u001b[0;34m)\u001b[0m \u001b[0;34m->\u001b[0m \u001b[0mTensor\u001b[0m\u001b[0;34m:\u001b[0m\u001b[0;34m\u001b[0m\u001b[0;34m\u001b[0m\u001b[0m\n\u001b[0;32m-> 1179\u001b[0;31m         return F.cross_entropy(input, target, weight=self.weight,\n\u001b[0m\u001b[1;32m   1180\u001b[0m                                \u001b[0mignore_index\u001b[0m\u001b[0;34m=\u001b[0m\u001b[0mself\u001b[0m\u001b[0;34m.\u001b[0m\u001b[0mignore_index\u001b[0m\u001b[0;34m,\u001b[0m \u001b[0mreduction\u001b[0m\u001b[0;34m=\u001b[0m\u001b[0mself\u001b[0m\u001b[0;34m.\u001b[0m\u001b[0mreduction\u001b[0m\u001b[0;34m,\u001b[0m\u001b[0;34m\u001b[0m\u001b[0;34m\u001b[0m\u001b[0m\n\u001b[1;32m   1181\u001b[0m                                label_smoothing=self.label_smoothing)\n",
            "\u001b[0;32m/usr/local/lib/python3.10/dist-packages/torch/nn/functional.py\u001b[0m in \u001b[0;36mcross_entropy\u001b[0;34m(input, target, weight, size_average, ignore_index, reduce, reduction, label_smoothing)\u001b[0m\n\u001b[1;32m   3051\u001b[0m     \u001b[0;32mif\u001b[0m \u001b[0msize_average\u001b[0m \u001b[0;32mis\u001b[0m \u001b[0;32mnot\u001b[0m \u001b[0;32mNone\u001b[0m \u001b[0;32mor\u001b[0m \u001b[0mreduce\u001b[0m \u001b[0;32mis\u001b[0m \u001b[0;32mnot\u001b[0m \u001b[0;32mNone\u001b[0m\u001b[0;34m:\u001b[0m\u001b[0;34m\u001b[0m\u001b[0;34m\u001b[0m\u001b[0m\n\u001b[1;32m   3052\u001b[0m         \u001b[0mreduction\u001b[0m \u001b[0;34m=\u001b[0m \u001b[0m_Reduction\u001b[0m\u001b[0;34m.\u001b[0m\u001b[0mlegacy_get_string\u001b[0m\u001b[0;34m(\u001b[0m\u001b[0msize_average\u001b[0m\u001b[0;34m,\u001b[0m \u001b[0mreduce\u001b[0m\u001b[0;34m)\u001b[0m\u001b[0;34m\u001b[0m\u001b[0;34m\u001b[0m\u001b[0m\n\u001b[0;32m-> 3053\u001b[0;31m     \u001b[0;32mreturn\u001b[0m \u001b[0mtorch\u001b[0m\u001b[0;34m.\u001b[0m\u001b[0m_C\u001b[0m\u001b[0;34m.\u001b[0m\u001b[0m_nn\u001b[0m\u001b[0;34m.\u001b[0m\u001b[0mcross_entropy_loss\u001b[0m\u001b[0;34m(\u001b[0m\u001b[0minput\u001b[0m\u001b[0;34m,\u001b[0m \u001b[0mtarget\u001b[0m\u001b[0;34m,\u001b[0m \u001b[0mweight\u001b[0m\u001b[0;34m,\u001b[0m \u001b[0m_Reduction\u001b[0m\u001b[0;34m.\u001b[0m\u001b[0mget_enum\u001b[0m\u001b[0;34m(\u001b[0m\u001b[0mreduction\u001b[0m\u001b[0;34m)\u001b[0m\u001b[0;34m,\u001b[0m \u001b[0mignore_index\u001b[0m\u001b[0;34m,\u001b[0m \u001b[0mlabel_smoothing\u001b[0m\u001b[0;34m)\u001b[0m\u001b[0;34m\u001b[0m\u001b[0;34m\u001b[0m\u001b[0m\n\u001b[0m\u001b[1;32m   3054\u001b[0m \u001b[0;34m\u001b[0m\u001b[0m\n\u001b[1;32m   3055\u001b[0m \u001b[0;34m\u001b[0m\u001b[0m\n",
            "\u001b[0;31mIndexError\u001b[0m: Target 1073 is out of bounds."
          ]
        }
      ],
      "source": [
        "import torch\n",
        "import torch.nn as nn\n",
        "import torch.optim as optim\n",
        "import matplotlib.pyplot as plt\n",
        "\n",
        "def fit(model, dataloader, optimizer, criterion, epochs, device):\n",
        "    model.train()\n",
        "    loss_history = []\n",
        "\n",
        "    for epoch in range(epochs):\n",
        "        total_loss = 0\n",
        "        for batch in dataloader:\n",
        "            inputs, targets = batch\n",
        "            inputs, targets = inputs.to(device), targets.to(device)\n",
        "\n",
        "\n",
        "            optimizer.zero_grad()\n",
        "\n",
        "            # Forward pass\n",
        "            outputs = model(inputs)\n",
        "\n",
        "            # Reshape or align outputs and targets if necessary\n",
        "            # Example: outputs might need to be reshaped or targets might need to be converted\n",
        "            # This depends on the specific output format of your model and the criterion requirements\n",
        "            # loss = criterion(outputs.view(-1, outputs.size(-1)), targets.view(-1))\n",
        "\n",
        "            print(targets.shape, outputs.shape)\n",
        "\n",
        "\n",
        "            loss = criterion(outputs.view(-1, outputs.size(-1)), targets.view(-1))\n",
        "            loss.backward()\n",
        "            optimizer.step()\n",
        "\n",
        "            total_loss += loss.item()\n",
        "\n",
        "        avg_loss = total_loss / len(dataloader)\n",
        "        loss_history.append(avg_loss)\n",
        "        print(f'Epoch {epoch+1}/{epochs}, Loss: {avg_loss:.4f}')\n",
        "\n",
        "    return loss_history\n",
        "\n",
        "def evaluate(model, dataloader, criterion, device):\n",
        "    model.eval()\n",
        "    total_loss = 0\n",
        "\n",
        "    with torch.no_grad():\n",
        "        for batch in dataloader:\n",
        "            inputs, targets = batch\n",
        "            inputs, targets = inputs.to(device), targets.to(device)\n",
        "\n",
        "            outputs = model(inputs)\n",
        "\n",
        "            # Same as in fit function, adjust loss calculation based on output and target format\n",
        "            # loss = criterion(outputs.view(-1, outputs.size(-1)), targets.view(-1))\n",
        "\n",
        "\n",
        "            loss = criterion(outputs, targets)\n",
        "            total_loss += loss.item()\n",
        "\n",
        "    avg_loss = total_loss / len(dataloader)\n",
        "    return avg_loss\n",
        "\n",
        "\n",
        "# Example usage\n",
        "# Assuming you have a dataloader for training and validation\n",
        "batch_size = 32\n",
        "train_dataloader = DataLoader(train_dataset, batch_size=batch_size, shuffle=True)\n",
        "val_dataloader = DataLoader(val_dataset, batch_size=batch_size, shuffle=False)\n",
        "\n",
        "model = base_rnn(input_size, output_size, hidden_dim, summation_length, vocab_size, dropout, device) # Your LSTM model\n",
        "optimizer = optim.Adam(model.parameters(), lr=0.001)\n",
        "criterion = nn.CrossEntropyLoss()\n",
        "\n",
        "epochs = 10\n",
        "train_loss_history = fit(model, train_dataloader, optimizer, criterion, epochs, device)\n",
        "val_loss = evaluate(model, val_dataloader, criterion)\n",
        "\n",
        "# Plotting\n",
        "plt.plot(train_loss_history, label='Training Loss')\n",
        "plt.xlabel('Epochs')\n",
        "plt.ylabel('Loss')\n",
        "plt.title('Training Loss Over Time')\n",
        "plt.legend()\n",
        "plt.show()\n"
      ]
    }
  ],
  "metadata": {
    "colab": {
      "provenance": []
    },
    "kernelspec": {
      "display_name": "Python 3",
      "name": "python3"
    },
    "language_info": {
      "codemirror_mode": {
        "name": "ipython",
        "version": 3
      },
      "file_extension": ".py",
      "mimetype": "text/x-python",
      "name": "python",
      "nbconvert_exporter": "python",
      "pygments_lexer": "ipython3",
      "version": "3.8.10"
    }
  },
  "nbformat": 4,
  "nbformat_minor": 0
}
